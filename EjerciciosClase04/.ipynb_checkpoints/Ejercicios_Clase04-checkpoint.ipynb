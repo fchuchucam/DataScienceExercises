{
 "cells": [
  {
   "cell_type": "markdown",
   "id": "0479c501-d2ab-4cc9-be8c-ada3848bbc4f",
   "metadata": {},
   "source": [
    "# Checkpoint Estadística Descriptiva"
   ]
  },
  {
   "cell_type": "markdown",
   "id": "7f26d8f7-f42c-4e13-b1e1-b5878e7f620c",
   "metadata": {},
   "source": [
    "Para esta práctica usaremos un subconjunto de los registros de un dataset de Kaggle que tiene datos oceanográficos https://www.kaggle.com/sohier/calcofi\n",
    "\n",
    "El conjunto de datos de CalCOFI representa la serie cronológica más larga (desde 1949 hasta el presente) y más completa (más de 50.000 estaciones de muestreo) de datos oceanográficos y de larvas de peces del mundo. \n",
    "\n",
    "Incluye datos sobre la abundancia de las larvas de más de 250 especies de peces; datos de frecuencia de tallas de larvas y datos de abundancia de huevos en especies comerciales clave; y datos oceanográficos y de plancton. \n",
    "\n",
    "Los datos físicos, químicos y biológicos recopilados a intervalos regulares de tiempo y espacio son valiosos para documentar los ciclos climáticos en la corriente de California y una variedad de respuestas biológicas a esos ciclos. \n",
    "\n",
    "La idea de esta práctica es analizar las variables numéricas de este dataset reducido (sólo cinco estaciones de muestreo) calculando medidas de tendencia central, de dispersión, y de asociación entre esas variables.\n"
   ]
  },
  {
   "cell_type": "markdown",
   "id": "a2ea4fc8-a8d0-4264-b9fa-a95408f61d23",
   "metadata": {},
   "source": [
    "## Ejercicio 1\n",
    "Leer los datos del archivo /M1/CLASE_04_EstadisticaDescriptiva/Data/bottle_reducido.csv\n",
    "\n",
    "Este archivo tiene algunos datos numéricos y otros de tipo cadena de caracteres. \n",
    "\n",
    "Cada uno del los registros del dataset representa una medición en una estación. Las variables medidas son profundidad, temperatura, saturación de oxígeno, nivel de salinidad.\n",
    "\n",
    "Las columnas son:\n",
    "\n",
    "* **Sta_ID**: cadena de caracteres, representa el id de la estación\n",
    "\n",
    "* **Depth_ID**: cadena de caracteres, representa el id de la medición\n",
    "\n",
    "* **Depthm**: numérico, representa la profundidad en metros \n",
    "\n",
    "* **T_degC**: numérico, representa la temperatura en grados centigrados\n",
    "\n",
    "* **O2Sat**: numérico, representa la saturación de oxígeno\n",
    "\n",
    "* **Salnty**: numérico, representa el nivel de salinidad\n",
    "\n",
    "¿Recuerdan que todos los elementos de una instancia de ndarray deben ser del mismo tipo? Entonces vamos a leer el archivo y crear una instancia de ndarray de tipo cadena de caracteres.\n",
    "\n",
    "¿Qué pasaría si intentáramos crear una instancia de tipo int? ¿Y de tipo float?"
   ]
  },
  {
   "cell_type": "code",
   "execution_count": 4,
   "id": "af2dbebc-9e6e-4953-8701-3c0c604b6a86",
   "metadata": {},
   "outputs": [
    {
     "data": {
      "text/plain": [
       "array([[     nan,      nan,    0.   ,   10.3  ,   92.8  ,   33.03 ],\n",
       "       [     nan,      nan,    6.   ,   18.46 ,  111.8  ,   32.92 ],\n",
       "       [     nan,      nan,   10.   ,   10.29 ,   95.   ,   32.951],\n",
       "       ...,\n",
       "       [     nan,      nan, 1100.   ,    3.51 ,    6.4  ,   34.44 ],\n",
       "       [     nan,      nan, 1200.   ,    3.29 ,    7.3  ,   34.481],\n",
       "       [     nan,      nan, 1247.   ,    3.18 ,    7.6  ,   34.5  ]])"
      ]
     },
     "execution_count": 4,
     "metadata": {},
     "output_type": "execute_result"
    }
   ],
   "source": [
    "import numpy as np\n",
    "\n",
    "# local:\n",
    "data_location = 'Data/bottle_reducido.csv'\n",
    "data_default = np.genfromtxt(data_location,skip_header=1,delimiter='\\t')\n",
    "data_default"
   ]
  },
  {
   "cell_type": "code",
   "execution_count": 5,
   "id": "51f665ec-1255-49fb-a43f-ca6c2be79f37",
   "metadata": {},
   "outputs": [
    {
     "data": {
      "text/plain": [
       "array([['044.0 048.5', '19-4904CR-HY-087-0606-04400485-0000B-3', '0',\n",
       "        '10.3', '92.8', '33.03'],\n",
       "       ['044.0 048.5', '19-4904CR-HY-087-0606-04400485-0006A-3', '6',\n",
       "        '18.46', '111.8', '32.92'],\n",
       "       ['044.0 048.5', '19-4904CR-HY-087-0606-04400485-0010A-7', '10',\n",
       "        '10.29', '95.0', '32.951'],\n",
       "       ...,\n",
       "       ['036.7 115.0', '19-4911BD-HY-318-2130-03671150-1100A-7', '1100',\n",
       "        '3.51', '6.4', '34.44'],\n",
       "       ['036.7 115.0', '19-4911BD-HY-318-2130-03671150-1200A-7', '1200',\n",
       "        '3.29', '7.3', '34.481'],\n",
       "       ['036.7 115.0', '19-4911BD-HY-318-2130-03671150-1247A-3', '1247',\n",
       "        '3.18', '7.6', '34.5']], dtype='<U38')"
      ]
     },
     "execution_count": 5,
     "metadata": {},
     "output_type": "execute_result"
    }
   ],
   "source": [
    "data_type_str = np.genfromtxt(data_location, skip_header=1, delimiter='\\t', dtype= str)\n",
    "data_type_str"
   ]
  },
  {
   "cell_type": "code",
   "execution_count": 6,
   "id": "f3a2964f-4ec8-493b-8d6b-20c0a621d760",
   "metadata": {},
   "outputs": [
    {
     "data": {
      "text/plain": [
       "array([[  -1,   -1,    0,   10,   92,   33],\n",
       "       [  -1,   -1,    6,   18,  111,   32],\n",
       "       [  -1,   -1,   10,   10,   95,   32],\n",
       "       ...,\n",
       "       [  -1,   -1, 1100,    3,    6,   34],\n",
       "       [  -1,   -1, 1200,    3,    7,   34],\n",
       "       [  -1,   -1, 1247,    3,    7,   34]])"
      ]
     },
     "execution_count": 6,
     "metadata": {},
     "output_type": "execute_result"
    }
   ],
   "source": [
    "data_type_int =np.genfromtxt(data_location,skip_header=1, delimiter='\\t',dtype=int)\n",
    "data_type_int"
   ]
  },
  {
   "cell_type": "code",
   "execution_count": 7,
   "id": "4a8bd5bb-10e9-4449-a7ef-8fe5cf8508aa",
   "metadata": {},
   "outputs": [
    {
     "data": {
      "text/plain": [
       "array([[     nan,      nan,    0.   ,   10.3  ,   92.8  ,   33.03 ],\n",
       "       [     nan,      nan,    6.   ,   18.46 ,  111.8  ,   32.92 ],\n",
       "       [     nan,      nan,   10.   ,   10.29 ,   95.   ,   32.951],\n",
       "       ...,\n",
       "       [     nan,      nan, 1100.   ,    3.51 ,    6.4  ,   34.44 ],\n",
       "       [     nan,      nan, 1200.   ,    3.29 ,    7.3  ,   34.481],\n",
       "       [     nan,      nan, 1247.   ,    3.18 ,    7.6  ,   34.5  ]])"
      ]
     },
     "execution_count": 7,
     "metadata": {},
     "output_type": "execute_result"
    }
   ],
   "source": [
    "data_type_float=np.genfromtxt(data_location,skip_header=1, delimiter='\\t', dtype=float)\n",
    "data_type_float"
   ]
  },
  {
   "cell_type": "markdown",
   "id": "7973d2fc-9a79-4678-af60-8b6caa849bdf",
   "metadata": {},
   "source": [
    "## Ejercicio 2\n",
    "\n",
    "Sobre los datos de nivel de salinidad (columna Salnty) calcular:\n",
    "\n",
    "* media\n",
    "\n",
    "* mediana \n",
    "\n",
    "* desvio\n",
    "\n",
    "* rango"
   ]
  },
  {
   "cell_type": "code",
   "execution_count": 12,
   "id": "35c50e05-e432-4f5e-91a1-ec601428fbc5",
   "metadata": {},
   "outputs": [],
   "source": [
    "column_salnty_id=5\n",
    "data_salnty= data_type_str[:,column_salnty_id]\n",
    "data_salnty_numeric=data_salnty.astype(float)"
   ]
  },
  {
   "cell_type": "code",
   "execution_count": 14,
   "id": "d221442e-022e-4273-89d3-3e07c39bc30c",
   "metadata": {},
   "outputs": [
    {
     "name": "stdout",
     "output_type": "stream",
     "text": [
      "        Media de Salnty\n",
      "Mean: 33.601653746770026\n"
     ]
    }
   ],
   "source": [
    "print (\"        Media de Salnty\")\n",
    "print (\"Mean:\", np.mean(data_salnty_numeric))"
   ]
  },
  {
   "cell_type": "code",
   "execution_count": 15,
   "id": "df5cc107-26c6-4d39-b086-fc643e0faa49",
   "metadata": {},
   "outputs": [
    {
     "name": "stdout",
     "output_type": "stream",
     "text": [
      "        Mediana de Salnty\n",
      "Mean: 33.8485\n"
     ]
    }
   ],
   "source": [
    "print (\"        Mediana de Salnty\")\n",
    "print (\"Mean:\", np.median(data_salnty_numeric))"
   ]
  },
  {
   "cell_type": "code",
   "execution_count": 16,
   "id": "e0d32ea5-4e6c-45a7-a889-0622c4e98af7",
   "metadata": {},
   "outputs": [
    {
     "name": "stdout",
     "output_type": "stream",
     "text": [
      "        Desvio Estándar de Salnty\n",
      "Desvío Estándar: 0.6562158205240991\n"
     ]
    }
   ],
   "source": [
    "print (\"        Desvio Estándar de Salnty\")\n",
    "print (\"Desvío Estándar:\", np.std(data_salnty_numeric))"
   ]
  },
  {
   "cell_type": "code",
   "execution_count": 18,
   "id": "99abec4c-f117-42b7-baf9-361ab781115b",
   "metadata": {},
   "outputs": [
    {
     "name": "stdout",
     "output_type": "stream",
     "text": [
      "        Rango de Salnty\n",
      "Rango: 2.3600000000000065\n"
     ]
    }
   ],
   "source": [
    "print (\"        Rango de Salnty\")\n",
    "print (\"Rango:\", (np.max(data_salnty_numeric)-np.min(data_salnty_numeric)))"
   ]
  },
  {
   "cell_type": "markdown",
   "id": "e84c8c01-2fc8-406a-84e8-091abe23a1dd",
   "metadata": {},
   "source": [
    "## Ejercicio 3\n",
    "\n",
    "Usando la función `distribution_plotter` graficar las distribuciones de las variables Depthm, T_degC, O2Sat, Salnty\n",
    "\n",
    "<code>\n",
    "\n",
    "import seaborn as sns\n",
    "\n",
    "def distribution_plotter(data, label, bin_width=100):    \n",
    "    sns.set(rc={\"figure.figsize\": (7, 5)})\n",
    "    sns.set_style(\"white\")    \n",
    "    dist = sns.histplot(data, stat = 'count', kde = False, \n",
    "                        line_kws = {'linewidth':5}, \n",
    "                        binwidth = bin_width)    \n",
    "    dist.set_title('Distribucion ' + label + '\\n', fontsize = 16)\n",
    "</code>\n",
    "\n",
    "\n",
    "Qué pueden decir de estas distribuciones?\n",
    "\n",
    "Pongan atención en la elección del parámetro `bin_width` para que el gráfico sea informativo.\n"
   ]
  },
  {
   "cell_type": "code",
   "execution_count": 40,
   "id": "15ad0b5d-e5d5-4140-9540-c75f2037f259",
   "metadata": {},
   "outputs": [],
   "source": [
    "import seaborn as sns\n",
    "\n",
    "def distribution_plotter(data, label, bin_width=100):    \n",
    "    sns.set(rc={\"figure.figsize\": (7, 5)})\n",
    "    sns.set_style(\"white\")    \n",
    "    dist = sns.histplot(data, stat = 'count', kde = False, \n",
    "                        line_kws = {'linewidth':5}, \n",
    "                        binwidth = bin_width)    \n",
    "    dist.set_title('Distribucion ' + label + '\\n', fontsize = 16)"
   ]
  },
  {
   "cell_type": "code",
   "execution_count": 41,
   "id": "a3f026cd-3f61-438e-be15-289c6d6470c4",
   "metadata": {},
   "outputs": [
    {
     "data": {
      "image/png": "[encoded data removed]",
      "text/plain": [
       "<Figure size 504x360 with 1 Axes>"
      ]
     },
     "metadata": {},
     "output_type": "display_data"
    }
   ],
   "source": [
    "column_depthm_id=2\n",
    "column_T_degC_id=3\n",
    "column_O2Sat_id=4\n",
    "column_salnty_id=5\n",
    "\n",
    "data_depthm_numeric=data_type_str[:,column_depthm_id].astype(float)\n",
    "distribution_plotter(data_depthm_numeric,\"depthm\",100)\n"
   ]
  },
  {
   "cell_type": "code",
   "execution_count": 42,
   "id": "e6426391-84d3-4c46-a02a-5cbc84b242db",
   "metadata": {},
   "outputs": [
    {
     "data": {
      "image/png": "[encoded data removed]",
      "text/plain": [
       "<Figure size 504x360 with 1 Axes>"
      ]
     },
     "metadata": {},
     "output_type": "display_data"
    }
   ],
   "source": [
    "data_t_degc_numeric=data_type_str[:,column_T_degC_id].astype(float)\n",
    "distribution_plotter(data_t_degc_numeric,\"T_degC\",1)"
   ]
  },
  {
   "cell_type": "code",
   "execution_count": 43,
   "id": "929e3bf6-61a5-4453-902f-9560d6522bda",
   "metadata": {},
   "outputs": [
    {
     "data": {
      "image/png": "[encoded data removed]",
      "text/plain": [
       "<Figure size 504x360 with 1 Axes>"
      ]
     },
     "metadata": {},
     "output_type": "display_data"
    }
   ],
   "source": [
    "data_O2Sat_numeric=data_type_str[:,column_O2Sat_id].astype(float)\n",
    "distribution_plotter(data_O2Sat_numeric,\"O2Sat\",10)"
   ]
  },
  {
   "cell_type": "code",
   "execution_count": 49,
   "id": "936536e1-647f-435e-8183-911c5b802dd9",
   "metadata": {},
   "outputs": [
    {
     "data": {
      "image/png": "[encoded data removed]",
      "text/plain": [
       "<Figure size 504x360 with 1 Axes>"
      ]
     },
     "metadata": {},
     "output_type": "display_data"
    }
   ],
   "source": [
    "data_salnty_numeric=data_type_str[:,column_salnty_id].astype(float)\n",
    "distribution_plotter(data_salnty_numeric,\"depthm\",0.1)"
   ]
  },
  {
   "cell_type": "markdown",
   "id": "ae6ed574-8a82-43f3-8890-0e4a2b54bd91",
   "metadata": {},
   "source": [
    "## Ejercicio 4\n",
    "\n",
    "Calcular las matrices de correlación y covarianza de las variables Depthm, T_degC, O2Sat, Salnty\n",
    "\n",
    "A partir de estos resultados, elegir sólo una de estas variables para intentar predecir el valor de salinidad:\n",
    "\n",
    "* ¿Usarían para esto la matriz de correlación o la de covarianzas? ¿Por qué?\n",
    "\n",
    "* ¿Qué variable elegirían? Justificar la decisión.\n"
   ]
  },
  {
   "cell_type": "code",
   "execution_count": null,
   "id": "89611614-7edf-4895-b33f-727220eca34b",
   "metadata": {},
   "outputs": [],
   "source": []
  }
 ],
 "metadata": {
  "kernelspec": {
   "display_name": "Python 3",
   "language": "python",
   "name": "python3"
  },
  "language_info": {
   "codemirror_mode": {
    "name": "ipython",
    "version": 3
   },
   "file_extension": ".py",
   "mimetype": "text/x-python",
   "name": "python",
   "nbconvert_exporter": "python",
   "pygments_lexer": "ipython3",
   "version": "3.8.8"
  }
 },
 "nbformat": 4,
 "nbformat_minor": 5
}
