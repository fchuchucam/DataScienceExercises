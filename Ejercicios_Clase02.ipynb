{
 "cells": [
  {
   "cell_type": "code",
   "execution_count": 3,
   "id": "a1e48689-5d1f-4400-bf54-f4b1e01d0d41",
   "metadata": {},
   "outputs": [],
   "source": [
    "def greet_user():\n",
    "    \"\"\"Funcion para saludar\"\"\"\n",
    "    print(\"Hello!!\")"
   ]
  },
  {
   "cell_type": "code",
   "execution_count": 4,
   "id": "4ccca963-49b3-4316-a2ab-588e8c0522c7",
   "metadata": {},
   "outputs": [
    {
     "name": "stdout",
     "output_type": "stream",
     "text": [
      "Hello!!\n"
     ]
    }
   ],
   "source": [
    "greet_user()"
   ]
  },
  {
   "cell_type": "code",
   "execution_count": 5,
   "id": "e7d41c81-6953-443c-8b46-a5e348d6907c",
   "metadata": {},
   "outputs": [],
   "source": [
    "def greet_user(username):\n",
    "    \"\"\"Funcion para saludar con parámetro\"\"\"\n",
    "    print(f\"Hello username, {username}!\")"
   ]
  },
  {
   "cell_type": "code",
   "execution_count": 6,
   "id": "4f72e404-2de9-4819-a53a-d9d2c61cc2c3",
   "metadata": {},
   "outputs": [
    {
     "name": "stdout",
     "output_type": "stream",
     "text": [
      "Hello username, fanny!\n"
     ]
    }
   ],
   "source": [
    "greet_user('fanny')"
   ]
  },
  {
   "cell_type": "code",
   "execution_count": 11,
   "id": "7117da0a-578f-4e83-8984-34dd4a1db7a2",
   "metadata": {},
   "outputs": [],
   "source": [
    "def describe_pet(animal_type,animal_name):\n",
    "    \"\"\"Describe my pet\"\"\"\n",
    "    print(f\"I have a {animal_type}.\")\n",
    "    print(f\"My {animal_type}'s name is {animal_name}.\")"
   ]
  },
  {
   "cell_type": "code",
   "execution_count": 12,
   "id": "dd12054a-64f9-468e-9648-68f3c87b1a28",
   "metadata": {},
   "outputs": [
    {
     "name": "stdout",
     "output_type": "stream",
     "text": [
      "I have a dog.\n",
      "My dog's name is Donna.\n"
     ]
    }
   ],
   "source": [
    "describe_pet('dog','Donna')"
   ]
  },
  {
   "cell_type": "code",
   "execution_count": 13,
   "id": "b72eca98-77f9-4636-a8ca-2e9034d91bb9",
   "metadata": {},
   "outputs": [
    {
     "name": "stdout",
     "output_type": "stream",
     "text": [
      "I have a cat.\n",
      "My cat's name is Simba.\n"
     ]
    }
   ],
   "source": [
    "describe_pet('cat','Simba')"
   ]
  },
  {
   "cell_type": "code",
   "execution_count": 15,
   "id": "7e33f472-8c3d-4c6a-9726-62cc802a4776",
   "metadata": {},
   "outputs": [],
   "source": [
    "def describe_pet(animal_name,animal_type='dog'):\n",
    "    \"\"\"Describe my pet\"\"\"\n",
    "    print(f\"I have a {animal_type}.\")\n",
    "    print(f\"My {animal_type}'s name is {animal_name}.\")"
   ]
  },
  {
   "cell_type": "code",
   "execution_count": 16,
   "id": "fb1c5508-4265-42c0-916f-102ee7a00f64",
   "metadata": {},
   "outputs": [
    {
     "name": "stdout",
     "output_type": "stream",
     "text": [
      "I have a dog.\n",
      "My dog's name is Donna.\n"
     ]
    }
   ],
   "source": [
    "describe_pet('Donna')"
   ]
  },
  {
   "cell_type": "code",
   "execution_count": 18,
   "id": "a4885cdb-6b0d-4c41-ac30-e0a0204e164f",
   "metadata": {},
   "outputs": [
    {
     "name": "stdout",
     "output_type": "stream",
     "text": [
      "I have a cat.\n",
      "My cat's name is Lolis.\n"
     ]
    }
   ],
   "source": [
    "describe_pet('Lolis','cat')"
   ]
  },
  {
   "cell_type": "code",
   "execution_count": null,
   "id": "47306c24-25c0-4942-a825-10b3cfb789ef",
   "metadata": {},
   "outputs": [],
   "source": []
  },
  {
   "cell_type": "code",
   "execution_count": 5,
   "id": "556ded5a-e2c9-4fb5-a644-5b125d91f63f",
   "metadata": {},
   "outputs": [],
   "source": [
    "def get_formatted_name(first_name,middle_name,last_name):\n",
    "    \"\"\"Get a formatted name\"\"\"\n",
    "    full_name = f\"{first_name} {middle_name} {last_name}\"\n",
    "    return full_name.title()"
   ]
  },
  {
   "cell_type": "code",
   "execution_count": 6,
   "id": "85ab5a64-a2a8-4e5a-998e-b1a30a452ba5",
   "metadata": {},
   "outputs": [
    {
     "name": "stdout",
     "output_type": "stream",
     "text": [
      "Donna Tella Chuchuca\n"
     ]
    }
   ],
   "source": [
    "pet=get_formatted_name('Donna','Tella','Chuchuca')\n",
    "print(pet)"
   ]
  },
  {
   "cell_type": "code",
   "execution_count": 10,
   "id": "9325df40-e0c2-4ac4-9eb7-04b8b0e11a10",
   "metadata": {},
   "outputs": [],
   "source": [
    "def get_formatted_name(first_name,middle_name,last_name=''):\n",
    "    \"\"\"Get formatted name\"\"\"\n",
    "    if middle_name:\n",
    "        full_name=f\"{first_name} {middle_name} {last_name}\"\n",
    "    else:\n",
    "        full_name=f\"{first_name} {last_name}\"\n",
    "    return full_name.title()\n",
    "        "
   ]
  },
  {
   "cell_type": "code",
   "execution_count": 16,
   "id": "dd330e79-a810-4266-bc92-36f2a6b4310e",
   "metadata": {},
   "outputs": [
    {
     "name": "stdout",
     "output_type": "stream",
     "text": [
      "Donna Tella \n"
     ]
    }
   ],
   "source": [
    "pet1=get_formatted_name('Donna','Tella')\n",
    "print(pet1)"
   ]
  },
  {
   "cell_type": "code",
   "execution_count": 17,
   "id": "543c66af-f168-4f54-a968-86d0b490167d",
   "metadata": {},
   "outputs": [
    {
     "name": "stdout",
     "output_type": "stream",
     "text": [
      "Donna Tella Chuchuca\n"
     ]
    }
   ],
   "source": [
    "pet2=get_formatted_name('Donna','Tella','Chuchuca')\n",
    "print(pet2)"
   ]
  },
  {
   "cell_type": "code",
   "execution_count": 18,
   "id": "2c4d5d1a-448e-4957-b0ae-48ef9d527e0c",
   "metadata": {},
   "outputs": [],
   "source": [
    "def make_pizza(*toppings):\n",
    "    print(toppings)"
   ]
  },
  {
   "cell_type": "code",
   "execution_count": 19,
   "id": "f5e35e70-b2bd-4c37-80e7-5917a40b4e2d",
   "metadata": {},
   "outputs": [
    {
     "name": "stdout",
     "output_type": "stream",
     "text": [
      "('Salami', 'Masa', 'Salsa de Tomate', 'Peperoni', 'Queso')\n"
     ]
    }
   ],
   "source": [
    "make_pizza('Salami','Masa','Salsa de Tomate','Peperoni','Queso')"
   ]
  },
  {
   "cell_type": "code",
   "execution_count": null,
   "id": "2c7af300-fdf9-4c37-995a-982f9041bdc6",
   "metadata": {},
   "outputs": [],
   "source": []
  }
 ],
 "metadata": {
  "kernelspec": {
   "display_name": "Python 3",
   "language": "python",
   "name": "python3"
  },
  "language_info": {
   "codemirror_mode": {
    "name": "ipython",
    "version": 3
   },
   "file_extension": ".py",
   "mimetype": "text/x-python",
   "name": "python",
   "nbconvert_exporter": "python",
   "pygments_lexer": "ipython3",
   "version": "3.8.8"
  }
 },
 "nbformat": 4,
 "nbformat_minor": 5
}
