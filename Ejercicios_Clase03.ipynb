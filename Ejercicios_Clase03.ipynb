{
 "cells": [
  {
   "cell_type": "code",
   "execution_count": 2,
   "id": "a7578b8b-5bfb-4bea-aec8-9306be719b5a",
   "metadata": {},
   "outputs": [
    {
     "data": {
      "text/plain": [
       "array([[7.74010032, 5.96154817, 6.42584474, 7.24993013],\n",
       "       [8.78851561, 9.88089875, 3.71487976, 5.08458822],\n",
       "       [4.55889098, 2.87134606, 4.32370624, 2.21905424]])"
      ]
     },
     "execution_count": 2,
     "metadata": {},
     "output_type": "execute_result"
    }
   ],
   "source": [
    "import numpy as np\n",
    "low = 0 #incluye el limite inferior\n",
    "high = 10 # no incluye el límite superior\n",
    "size = (3, 4) # 3 filas y 4 columnas\n",
    "random_generator_seed = np.random.default_rng()\n",
    "two_d_array = random_generator_seed.uniform(low, high, size)\n",
    "two_d_array"
   ]
  },
  {
   "cell_type": "code",
   "execution_count": 4,
   "id": "ff44458c-8156-4525-8c67-17336820c2d1",
   "metadata": {},
   "outputs": [
    {
     "data": {
      "text/plain": [
       "array([[6.42584474, 7.24993013, 5.96154817, 6.42584474, 7.74010032],\n",
       "       [3.71487976, 5.08458822, 9.88089875, 3.71487976, 8.78851561],\n",
       "       [4.32370624, 2.21905424, 2.87134606, 4.32370624, 4.55889098]])"
      ]
     },
     "execution_count": 4,
     "metadata": {},
     "output_type": "execute_result"
    }
   ],
   "source": [
    "# nos quedamos con todas las filas y las columnas 3, 4, 2, y reptimos la 3 (índices 2,3,1,2)\n",
    "lista_indices_columnas = [2, 3, 1, 2, 0]\n",
    "two_d_array[:, lista_indices_columnas]"
   ]
  },
  {
   "cell_type": "code",
   "execution_count": 5,
   "id": "39d0301d-80dc-4735-b85a-85648b1969e1",
   "metadata": {},
   "outputs": [
    {
     "data": {
      "text/plain": [
       "array([5, 6, 7])"
      ]
     },
     "execution_count": 5,
     "metadata": {},
     "output_type": "execute_result"
    }
   ],
   "source": [
    "a = np.array([0, 1, 2])\n",
    "b = 5\n",
    "a + b"
   ]
  },
  {
   "cell_type": "code",
   "execution_count": 6,
   "id": "5291b3a4-e6a3-462a-aea7-379f9588e3f2",
   "metadata": {},
   "outputs": [
    {
     "data": {
      "text/plain": [
       "array([[1., 2., 3.],\n",
       "       [1., 2., 3.],\n",
       "       [1., 2., 3.]])"
      ]
     },
     "execution_count": 6,
     "metadata": {},
     "output_type": "execute_result"
    }
   ],
   "source": [
    "# linea 2 de la imagen:\n",
    "a = np.ones((3, 3))\n",
    "b = np.array([0, 1, 2])\n",
    "a + b"
   ]
  },
  {
   "cell_type": "code",
   "execution_count": 7,
   "id": "4ca74f35-8701-4e8c-873a-fc11514e694e",
   "metadata": {},
   "outputs": [
    {
     "data": {
      "text/plain": [
       "array([[1., 1., 1.],\n",
       "       [1., 1., 1.],\n",
       "       [1., 1., 1.]])"
      ]
     },
     "execution_count": 7,
     "metadata": {},
     "output_type": "execute_result"
    }
   ],
   "source": [
    "a"
   ]
  },
  {
   "cell_type": "code",
   "execution_count": 8,
   "id": "909cc37a-506c-4d45-9008-5afe836fe63f",
   "metadata": {},
   "outputs": [
    {
     "data": {
      "text/plain": [
       "array([0, 1, 2])"
      ]
     },
     "execution_count": 8,
     "metadata": {},
     "output_type": "execute_result"
    }
   ],
   "source": [
    "b"
   ]
  },
  {
   "cell_type": "code",
   "execution_count": 9,
   "id": "056a1cf7-3778-4641-a5e2-2c18a4ed4dda",
   "metadata": {},
   "outputs": [
    {
     "name": "stdout",
     "output_type": "stream",
     "text": [
      "\n",
      "a.shape: (3, 1)\n",
      "a:\n",
      "[[0]\n",
      " [1]\n",
      " [2]]\n"
     ]
    }
   ],
   "source": [
    "a = np.array([[0], [1], [2]])\n",
    "print('\\na.shape:', a.shape)\n",
    "print('a:')\n",
    "print(a)"
   ]
  },
  {
   "cell_type": "code",
   "execution_count": 10,
   "id": "8739547f-3524-418a-b0a0-0a0491050697",
   "metadata": {},
   "outputs": [
    {
     "name": "stdout",
     "output_type": "stream",
     "text": [
      "\n",
      "b.shape: (3,)\n",
      "b:\n",
      "[0 1 2]\n",
      "\n",
      "a+b:\n"
     ]
    },
    {
     "data": {
      "text/plain": [
       "array([[0, 1, 2],\n",
       "       [1, 2, 3],\n",
       "       [2, 3, 4]])"
      ]
     },
     "execution_count": 10,
     "metadata": {},
     "output_type": "execute_result"
    }
   ],
   "source": [
    "b = np.array([0, 1, 2])\n",
    "print('\\nb.shape:', b.shape)\n",
    "print('b:')\n",
    "print(b)\n",
    "\n",
    "print('\\na+b:')\n",
    "a+b"
   ]
  },
  {
   "cell_type": "markdown",
   "id": "1f592ccd-3e0b-4584-821b-c6099c18e8a0",
   "metadata": {},
   "source": [
    "# Hands On"
   ]
  },
  {
   "cell_type": "markdown",
   "id": "4e81e9cb-a4c0-436f-abe2-9bae062a70ec",
   "metadata": {},
   "source": [
    "# Ejercicio 1"
   ]
  },
  {
   "cell_type": "markdown",
   "id": "43c4b3a0-6371-42cb-a8d1-c25c69a5c41c",
   "metadata": {},
   "source": [
    " Dada la instancia de NumPy array\n",
    "\n",
    "data = np.array([[0, 1, 2, 3, 4], \n",
    "              [2, 3, 5, 6, 7], \n",
    "              [5, 6, 7, 8, 9], \n",
    "              [10, 11, 12, 13, 14], \n",
    "              [15, 16, 17, 18, 19], \n",
    "              [1, 2, 3, 4, 5]\n",
    "             ])\n",
    "\n",
    "Obtener un array que tenga sólo las filas impares de 'data' usando:\n",
    "\n",
    "Slicing:\n",
    "\n",
    "Fancy indexing\n",
    "\n",
    "El resultado debe ser\n",
    "\n",
    "np.array([[0, 1, 2, 3, 4], \n",
    "    [5, 6, 7, 8, 9], \n",
    "    [15, 16, 17, 18, 19]])"
   ]
  },
  {
   "cell_type": "code",
   "execution_count": 12,
   "id": "d5e3abd4-7327-422f-ab92-0bcce5e7c7f4",
   "metadata": {},
   "outputs": [],
   "source": [
    "data = np.array([[0, 1, 2, 3, 4], \n",
    "              [2, 3, 5, 6, 7], \n",
    "              [5, 6, 7, 8, 9], \n",
    "              [10, 11, 12, 13, 14], \n",
    "              [15, 16, 17, 18, 19], \n",
    "              [1, 2, 3, 4, 5]\n",
    "             ])"
   ]
  },
  {
   "cell_type": "code",
   "execution_count": 13,
   "id": "c3add396-2fa4-42ea-bb9e-496a37c5a257",
   "metadata": {},
   "outputs": [
    {
     "data": {
      "text/plain": [
       "array([[ 0,  1,  2,  3,  4],\n",
       "       [ 2,  3,  5,  6,  7],\n",
       "       [ 5,  6,  7,  8,  9],\n",
       "       [10, 11, 12, 13, 14],\n",
       "       [15, 16, 17, 18, 19],\n",
       "       [ 1,  2,  3,  4,  5]])"
      ]
     },
     "execution_count": 13,
     "metadata": {},
     "output_type": "execute_result"
    }
   ],
   "source": [
    "data"
   ]
  },
  {
   "cell_type": "code",
   "execution_count": 26,
   "id": "beb71b85-745e-4d8d-aebd-1c24a81a5d04",
   "metadata": {},
   "outputs": [
    {
     "data": {
      "text/plain": [
       "array([[ 0,  1,  2,  3,  4],\n",
       "       [ 5,  6,  7,  8,  9],\n",
       "       [15, 16, 17, 18, 19]])"
      ]
     },
     "execution_count": 26,
     "metadata": {},
     "output_type": "execute_result"
    }
   ],
   "source": [
    "#Slicing: cuando accedemos a los elementos con los parámetros start,stop,step: my_array[0:5:-1]\n",
    "data[0:6:2]"
   ]
  },
  {
   "cell_type": "code",
   "execution_count": 28,
   "id": "9768f7fa-c90f-46b6-b719-89bd3cfd24fb",
   "metadata": {},
   "outputs": [
    {
     "data": {
      "text/plain": [
       "array([[ 0,  1,  2,  3,  4],\n",
       "       [ 5,  6,  7,  8,  9],\n",
       "       [15, 16, 17, 18, 19]])"
      ]
     },
     "execution_count": 28,
     "metadata": {},
     "output_type": "execute_result"
    }
   ],
   "source": [
    "#Fancy Indexing: Cuando creamos una lista de índices y la usamos para acceder a ciertos elementos del array: my_array[[3,5,7,8]]\n",
    "# nos quedamos con todas las columnas y las filas 1, 3, 5  (índices 0,2,4)\n",
    "lista_indices_filas = [0, 2, 4]\n",
    "data[lista_indices_filas]"
   ]
  },
  {
   "cell_type": "code",
   "execution_count": 33,
   "id": "0ad81ae5-d5a6-4afe-9adb-61e006b54a9a",
   "metadata": {},
   "outputs": [
    {
     "data": {
      "text/plain": [
       "array([[False, False, False, False, False],\n",
       "       [False, False, False, False, False],\n",
       "       [False, False, False, False, False],\n",
       "       [False, False, False, False, False],\n",
       "       [False,  True,  True,  True,  True],\n",
       "       [False, False, False, False, False]])"
      ]
     },
     "execution_count": 33,
     "metadata": {},
     "output_type": "execute_result"
    }
   ],
   "source": [
    "#Boolean Indexing: Cuando creamos una “máscara booleana” (un array o lista de True y False) para acceder a ciertos elementos: \n",
    "#my_array[my_array > 4]\n",
    "mask_great_15 = data > 15\n",
    "mask_great_15"
   ]
  },
  {
   "cell_type": "code",
   "execution_count": 34,
   "id": "ee36b821-0fe7-4fae-a508-1778e4dbbc88",
   "metadata": {},
   "outputs": [
    {
     "data": {
      "text/plain": [
       "array([16, 17, 18, 19])"
      ]
     },
     "execution_count": 34,
     "metadata": {},
     "output_type": "execute_result"
    }
   ],
   "source": [
    "data[mask_great_15]"
   ]
  },
  {
   "cell_type": "markdown",
   "id": "bd9e9663-43cd-418f-9be4-cf6ab639fa7e",
   "metadata": {},
   "source": [
    "# Ejercicio 2"
   ]
  },
  {
   "cell_type": "code",
   "execution_count": 37,
   "id": "66f5dd26-fee6-4ed6-b33f-815f9483b508",
   "metadata": {},
   "outputs": [],
   "source": [
    "#Seleccionar los elementos de valor par de 'data' usando boolean indexing\n",
    "#Boolean Indexing: Cuando creamos una “máscara booleana” (un array o lista de True y False) para acceder a ciertos elementos: \n",
    "#Realizamos con modulo 2"
   ]
  },
  {
   "cell_type": "code",
   "execution_count": 39,
   "id": "d87e9a28-ddbf-41e2-8c56-ce3edd0c2c87",
   "metadata": {},
   "outputs": [
    {
     "data": {
      "text/plain": [
       "array([[ True, False,  True, False,  True],\n",
       "       [ True, False, False,  True, False],\n",
       "       [False,  True, False,  True, False],\n",
       "       [ True, False,  True, False,  True],\n",
       "       [False,  True, False,  True, False],\n",
       "       [False,  True, False,  True, False]])"
      ]
     },
     "execution_count": 39,
     "metadata": {},
     "output_type": "execute_result"
    }
   ],
   "source": [
    "mask_pares=data%2==0\n",
    "mask_pares"
   ]
  },
  {
   "cell_type": "code",
   "execution_count": 40,
   "id": "b81b86d9-9df0-4250-ae74-f9c67994ac9e",
   "metadata": {},
   "outputs": [
    {
     "data": {
      "text/plain": [
       "array([ 0,  2,  4,  2,  6,  6,  8, 10, 12, 14, 16, 18,  2,  4])"
      ]
     },
     "execution_count": 40,
     "metadata": {},
     "output_type": "execute_result"
    }
   ],
   "source": [
    "data[mask_pares]"
   ]
  },
  {
   "cell_type": "code",
   "execution_count": null,
   "id": "029acc31-9054-4bdb-97df-91be3eb996ea",
   "metadata": {},
   "outputs": [],
   "source": []
  }
 ],
 "metadata": {
  "kernelspec": {
   "display_name": "Python 3",
   "language": "python",
   "name": "python3"
  },
  "language_info": {
   "codemirror_mode": {
    "name": "ipython",
    "version": 3
   },
   "file_extension": ".py",
   "mimetype": "text/x-python",
   "name": "python",
   "nbconvert_exporter": "python",
   "pygments_lexer": "ipython3",
   "version": "3.8.8"
  }
 },
 "nbformat": 4,
 "nbformat_minor": 5
}
