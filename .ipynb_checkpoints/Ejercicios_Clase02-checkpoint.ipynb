{
 "cells": [
  {
   "cell_type": "code",
   "execution_count": 1,
   "id": "a1e48689-5d1f-4400-bf54-f4b1e01d0d41",
   "metadata": {
    "tags": []
   },
   "outputs": [],
   "source": [
    "def greet_user():\n",
    "    \"\"\"Funcion para saludar\"\"\"\n",
    "    print(\"Hello!!\")"
   ]
  },
  {
   "cell_type": "code",
   "execution_count": 2,
   "id": "4ccca963-49b3-4316-a2ab-588e8c0522c7",
   "metadata": {
    "tags": []
   },
   "outputs": [
    {
     "name": "stdout",
     "output_type": "stream",
     "text": [
      "Hello!!\n"
     ]
    }
   ],
   "source": [
    "greet_user()"
   ]
  },
  {
   "cell_type": "code",
   "execution_count": 3,
   "id": "e7d41c81-6953-443c-8b46-a5e348d6907c",
   "metadata": {
    "tags": []
   },
   "outputs": [],
   "source": [
    "def greet_user(username):\n",
    "    \"\"\"Funcion para saludar con parámetro\"\"\"\n",
    "    print(f\"Hello username, {username}!\")"
   ]
  },
  {
   "cell_type": "code",
   "execution_count": 4,
   "id": "4f72e404-2de9-4819-a53a-d9d2c61cc2c3",
   "metadata": {
    "tags": []
   },
   "outputs": [
    {
     "name": "stdout",
     "output_type": "stream",
     "text": [
      "Hello username, fanny!\n"
     ]
    }
   ],
   "source": [
    "greet_user('fanny')"
   ]
  },
  {
   "cell_type": "code",
   "execution_count": 5,
   "id": "7117da0a-578f-4e83-8984-34dd4a1db7a2",
   "metadata": {
    "tags": []
   },
   "outputs": [],
   "source": [
    "def describe_pet(animal_type,animal_name):\n",
    "    \"\"\"Describe my pet\"\"\"\n",
    "    print(f\"I have a {animal_type}.\")\n",
    "    print(f\"My {animal_type}'s name is {animal_name}.\")"
   ]
  },
  {
   "cell_type": "code",
   "execution_count": 6,
   "id": "dd12054a-64f9-468e-9648-68f3c87b1a28",
   "metadata": {
    "tags": []
   },
   "outputs": [
    {
     "name": "stdout",
     "output_type": "stream",
     "text": [
      "I have a dog.\n",
      "My dog's name is Donna.\n"
     ]
    }
   ],
   "source": [
    "describe_pet('dog','Donna')"
   ]
  },
  {
   "cell_type": "code",
   "execution_count": 7,
   "id": "b72eca98-77f9-4636-a8ca-2e9034d91bb9",
   "metadata": {
    "tags": []
   },
   "outputs": [
    {
     "name": "stdout",
     "output_type": "stream",
     "text": [
      "I have a cat.\n",
      "My cat's name is Simba.\n"
     ]
    }
   ],
   "source": [
    "describe_pet('cat','Simba')"
   ]
  },
  {
   "cell_type": "code",
   "execution_count": 8,
   "id": "7e33f472-8c3d-4c6a-9726-62cc802a4776",
   "metadata": {
    "tags": []
   },
   "outputs": [],
   "source": [
    "def describe_pet(animal_name,animal_type='dog'):\n",
    "    \"\"\"Describe my pet\"\"\"\n",
    "    print(f\"I have a {animal_type}.\")\n",
    "    print(f\"My {animal_type}'s name is {animal_name}.\")"
   ]
  },
  {
   "cell_type": "code",
   "execution_count": 9,
   "id": "fb1c5508-4265-42c0-916f-102ee7a00f64",
   "metadata": {
    "tags": []
   },
   "outputs": [
    {
     "name": "stdout",
     "output_type": "stream",
     "text": [
      "I have a dog.\n",
      "My dog's name is Donna.\n"
     ]
    }
   ],
   "source": [
    "describe_pet('Donna')"
   ]
  },
  {
   "cell_type": "code",
   "execution_count": 10,
   "id": "a4885cdb-6b0d-4c41-ac30-e0a0204e164f",
   "metadata": {
    "tags": []
   },
   "outputs": [
    {
     "name": "stdout",
     "output_type": "stream",
     "text": [
      "I have a cat.\n",
      "My cat's name is Lolis.\n"
     ]
    }
   ],
   "source": [
    "describe_pet('Lolis','cat')"
   ]
  },
  {
   "cell_type": "code",
   "execution_count": null,
   "id": "47306c24-25c0-4942-a825-10b3cfb789ef",
   "metadata": {},
   "outputs": [],
   "source": []
  },
  {
   "cell_type": "code",
   "execution_count": 11,
   "id": "556ded5a-e2c9-4fb5-a644-5b125d91f63f",
   "metadata": {
    "tags": []
   },
   "outputs": [],
   "source": [
    "def get_formatted_name(first_name,middle_name,last_name):\n",
    "    \"\"\"Get a formatted name\"\"\"\n",
    "    full_name = f\"{first_name} {middle_name} {last_name}\"\n",
    "    return full_name.title()"
   ]
  },
  {
   "cell_type": "code",
   "execution_count": 12,
   "id": "85ab5a64-a2a8-4e5a-998e-b1a30a452ba5",
   "metadata": {
    "tags": []
   },
   "outputs": [
    {
     "name": "stdout",
     "output_type": "stream",
     "text": [
      "Donna Tella Chuchuca\n"
     ]
    }
   ],
   "source": [
    "pet=get_formatted_name('Donna','Tella','Chuchuca')\n",
    "print(pet)"
   ]
  },
  {
   "cell_type": "code",
   "execution_count": 13,
   "id": "9325df40-e0c2-4ac4-9eb7-04b8b0e11a10",
   "metadata": {
    "tags": []
   },
   "outputs": [],
   "source": [
    "def get_formatted_name(first_name,middle_name,last_name=''):\n",
    "    \"\"\"Get formatted name\"\"\"\n",
    "    if middle_name:\n",
    "        full_name=f\"{first_name} {middle_name} {last_name}\"\n",
    "    else:\n",
    "        full_name=f\"{first_name} {last_name}\"\n",
    "    return full_name.title()\n",
    "        "
   ]
  },
  {
   "cell_type": "code",
   "execution_count": 14,
   "id": "dd330e79-a810-4266-bc92-36f2a6b4310e",
   "metadata": {
    "tags": []
   },
   "outputs": [
    {
     "name": "stdout",
     "output_type": "stream",
     "text": [
      "Donna Tella \n"
     ]
    }
   ],
   "source": [
    "pet1=get_formatted_name('Donna','Tella')\n",
    "print(pet1)"
   ]
  },
  {
   "cell_type": "code",
   "execution_count": 15,
   "id": "543c66af-f168-4f54-a968-86d0b490167d",
   "metadata": {
    "tags": []
   },
   "outputs": [
    {
     "name": "stdout",
     "output_type": "stream",
     "text": [
      "Donna Tella Chuchuca\n"
     ]
    }
   ],
   "source": [
    "pet2=get_formatted_name('Donna','Tella','Chuchuca')\n",
    "print(pet2)"
   ]
  },
  {
   "cell_type": "code",
   "execution_count": 16,
   "id": "2c4d5d1a-448e-4957-b0ae-48ef9d527e0c",
   "metadata": {
    "tags": []
   },
   "outputs": [],
   "source": [
    "def make_pizza(*toppings):\n",
    "    print(toppings)"
   ]
  },
  {
   "cell_type": "code",
   "execution_count": 17,
   "id": "f5e35e70-b2bd-4c37-80e7-5917a40b4e2d",
   "metadata": {
    "tags": []
   },
   "outputs": [
    {
     "name": "stdout",
     "output_type": "stream",
     "text": [
      "('Salami', 'Masa', 'Salsa de Tomate', 'Peperoni', 'Queso')\n"
     ]
    }
   ],
   "source": [
    "make_pizza('Salami','Masa','Salsa de Tomate','Peperoni','Queso')"
   ]
  },
  {
   "cell_type": "code",
   "execution_count": 18,
   "id": "2c7af300-fdf9-4c37-995a-982f9041bdc6",
   "metadata": {
    "tags": []
   },
   "outputs": [],
   "source": [
    "def build_profile (first, last, **user_info):\n",
    "    \"\"\"Dictionary about a user profile\"\"\"\n",
    "    user_info['first_name']=first\n",
    "    user_info['last_name']=last\n",
    "    return user_info"
   ]
  },
  {
   "cell_type": "code",
   "execution_count": 19,
   "id": "0cf5cf74-4b7b-4184-a64b-01e66120408c",
   "metadata": {
    "tags": []
   },
   "outputs": [
    {
     "name": "stdout",
     "output_type": "stream",
     "text": [
      "{'country': 'Ecuador', 'city': 'Cuenca', 'field': 'IT', 'first_name': 'Fanny', 'last_name': 'Chuchuca'}\n"
     ]
    }
   ],
   "source": [
    "user_profile=build_profile('Fanny','Chuchuca',country='Ecuador',city='Cuenca',field='IT')\n",
    "print (user_profile)"
   ]
  },
  {
   "cell_type": "markdown",
   "id": "358cd92d-a950-4717-afb4-1f7d3600c898",
   "metadata": {},
   "source": [
    "### Uso de la sentencia <code>return</code>"
   ]
  },
  {
   "cell_type": "code",
   "execution_count": 20,
   "id": "1bce9e3c-4103-4103-828a-abadf202b92c",
   "metadata": {
    "tags": []
   },
   "outputs": [],
   "source": [
    "def calculo_xyz(x,y,z=1.5):\n",
    "    if z>1:\n",
    "        return z*(x+y)\n",
    "    else:\n",
    "        return z/(x+y)"
   ]
  },
  {
   "cell_type": "code",
   "execution_count": 21,
   "id": "cd1ac212-a238-4a31-b173-de6a0c1af22d",
   "metadata": {
    "tags": []
   },
   "outputs": [
    {
     "data": {
      "text/plain": [
       "20"
      ]
     },
     "execution_count": 21,
     "metadata": {},
     "output_type": "execute_result"
    }
   ],
   "source": [
    "calculo_xyz(1,3,5)"
   ]
  },
  {
   "cell_type": "code",
   "execution_count": 22,
   "id": "39eadb69-4bb0-4c3c-8c14-d0402d589f26",
   "metadata": {
    "tags": []
   },
   "outputs": [
    {
     "data": {
      "text/plain": [
       "30.0"
      ]
     },
     "execution_count": 22,
     "metadata": {},
     "output_type": "execute_result"
    }
   ],
   "source": [
    "calculo_xyz(10,10)"
   ]
  },
  {
   "cell_type": "code",
   "execution_count": 23,
   "id": "b637c88f-3c15-42f8-bcdd-9c469f9356a5",
   "metadata": {
    "tags": []
   },
   "outputs": [],
   "source": [
    "def varios_resultados():\n",
    "    a=20\n",
    "    b=10\n",
    "    c=5\n",
    "    return a,b,c"
   ]
  },
  {
   "cell_type": "code",
   "execution_count": 24,
   "id": "5aed64c8-36ec-4d74-a7f6-ff8f28d6caf6",
   "metadata": {
    "tags": []
   },
   "outputs": [],
   "source": [
    "x,y,z=varios_resultados()"
   ]
  },
  {
   "cell_type": "code",
   "execution_count": 25,
   "id": "a9b7e1b8-a4d2-4c6b-bb6e-b85c244e0a14",
   "metadata": {
    "tags": []
   },
   "outputs": [
    {
     "name": "stdout",
     "output_type": "stream",
     "text": [
      "20 10 5\n"
     ]
    }
   ],
   "source": [
    "print(x,y,z)"
   ]
  },
  {
   "cell_type": "markdown",
   "id": "45612e3e-b1e2-498e-a26d-799c9fef3507",
   "metadata": {},
   "source": [
    "### Variables globales y locales"
   ]
  },
  {
   "cell_type": "code",
   "execution_count": 26,
   "id": "90544409-5813-4d21-8edb-9b1965345d39",
   "metadata": {
    "tags": []
   },
   "outputs": [],
   "source": [
    "def calculo_xyz(x,y,z=1.5):\n",
    "    if z<1:\n",
    "        r=z*(x+y)\n",
    "    else:\n",
    "        r=z/(x+y)\n",
    "    return r\n"
   ]
  },
  {
   "cell_type": "code",
   "execution_count": 27,
   "id": "88b67a3e-e694-477c-93fc-72d85b68da82",
   "metadata": {
    "tags": []
   },
   "outputs": [
    {
     "name": "stdout",
     "output_type": "stream",
     "text": [
      "0.5\n"
     ]
    }
   ],
   "source": [
    "a=20\n",
    "b=10\n",
    "c=15\n",
    "d=calculo_xyz(a,b,c)\n",
    "print(d)"
   ]
  },
  {
   "cell_type": "code",
   "execution_count": 28,
   "id": "e67d77b5-ec76-47b8-b8f9-987a511cb9a6",
   "metadata": {
    "tags": []
   },
   "outputs": [],
   "source": [
    "## Crea una lista de letras a partir de una palabra\n",
    "def crea_lista(string):\n",
    "    result = list(string)\n",
    "    return result\n"
   ]
  },
  {
   "cell_type": "code",
   "execution_count": 29,
   "id": "b5b9ebaf-34dc-4dfb-8a48-42dc931599fa",
   "metadata": {
    "tags": []
   },
   "outputs": [],
   "source": [
    "##Crea una tupla de letras a partir de una palabra\n",
    "def crea_tupla(string):\n",
    "    result = tuple(string)\n",
    "    return result\n"
   ]
  },
  {
   "cell_type": "markdown",
   "id": "b30a1a69-a697-473b-868f-f12b9c4ffed6",
   "metadata": {},
   "source": [
    "### Importar un módulo completo\n"
   ]
  },
  {
   "cell_type": "code",
   "execution_count": 30,
   "id": "5970db4f-1f54-4a5b-becd-8f16beedf5bc",
   "metadata": {
    "tags": []
   },
   "outputs": [
    {
     "data": {
      "text/plain": [
       "['a', 'b', 'c', 'd', 'e', 'f']"
      ]
     },
     "execution_count": 30,
     "metadata": {},
     "output_type": "execute_result"
    }
   ],
   "source": [
    "import letras\n",
    "palabras='abcdef'\n",
    "a_lista=letras.crea_lista(palabras)\n",
    "a_lista"
   ]
  },
  {
   "cell_type": "code",
   "execution_count": 31,
   "id": "872f2930-dfc5-4e40-b311-4df339e63f6c",
   "metadata": {
    "tags": []
   },
   "outputs": [
    {
     "data": {
      "text/plain": [
       "('a', 'b', 'c', 'e', 'd', 'f', 'g')"
      ]
     },
     "execution_count": 31,
     "metadata": {},
     "output_type": "execute_result"
    }
   ],
   "source": [
    "import letras\n",
    "palabras='abcedfg'\n",
    "a_tupla=letras.crea_tupla(palabras)\n",
    "a_tupla"
   ]
  },
  {
   "cell_type": "markdown",
   "id": "4d0daf3f-c39b-4b8a-b967-1054d23514ec",
   "metadata": {},
   "source": [
    "### Importar funciones específicas"
   ]
  },
  {
   "cell_type": "code",
   "execution_count": 32,
   "id": "aee0df21-5be8-416c-9a41-30ccee8daa01",
   "metadata": {
    "tags": []
   },
   "outputs": [
    {
     "data": {
      "text/plain": [
       "['a', 'b', 'c', 'e', 'd', 'f', 'g']"
      ]
     },
     "execution_count": 32,
     "metadata": {},
     "output_type": "execute_result"
    }
   ],
   "source": [
    "from letras import crea_lista, crea_tupla\n",
    "palabras='abcedfg'\n",
    "a_lista=crea_lista(palabras)\n",
    "a_lista"
   ]
  },
  {
   "cell_type": "code",
   "execution_count": 33,
   "id": "630ed24d-bac9-4986-988c-45501a10dd87",
   "metadata": {
    "tags": []
   },
   "outputs": [
    {
     "data": {
      "text/plain": [
       "('a', 'b', 'c', 'e', 'd', 'f', 'g')"
      ]
     },
     "execution_count": 33,
     "metadata": {},
     "output_type": "execute_result"
    }
   ],
   "source": [
    "a_tupla=crea_tupla(palabras)\n",
    "a_tupla"
   ]
  },
  {
   "cell_type": "markdown",
   "id": "e8969081-5a66-4d8d-9e7f-b9c48ff72816",
   "metadata": {},
   "source": [
    "## Excepciones"
   ]
  },
  {
   "cell_type": "code",
   "execution_count": 34,
   "id": "766e4a2b-f0a5-4ae5-9905-60fedad89fd8",
   "metadata": {
    "tags": []
   },
   "outputs": [],
   "source": [
    "def calculo_xyz(x,y,z=10):\n",
    "    try:\n",
    "        r=z*(x/y)\n",
    "        return r\n",
    "    except:\n",
    "        print('Error')"
   ]
  },
  {
   "cell_type": "code",
   "execution_count": 35,
   "id": "93dad3bc-9443-4b62-89e2-85f158e89cbd",
   "metadata": {
    "tags": []
   },
   "outputs": [
    {
     "name": "stdout",
     "output_type": "stream",
     "text": [
      "Error\n"
     ]
    }
   ],
   "source": [
    "a=calculo_xyz(5,0,10)\n",
    "a"
   ]
  },
  {
   "cell_type": "code",
   "execution_count": 36,
   "id": "9a45f4b2-7bfa-4b77-ade5-f97bd276574b",
   "metadata": {
    "tags": []
   },
   "outputs": [
    {
     "name": "stdout",
     "output_type": "stream",
     "text": [
      "Error\n"
     ]
    }
   ],
   "source": [
    "a=calculo_xyz(5,10,'a')\n",
    "a"
   ]
  },
  {
   "cell_type": "code",
   "execution_count": 37,
   "id": "30c8fd9d-769e-44b8-8a62-fbdc6224c97e",
   "metadata": {
    "tags": []
   },
   "outputs": [],
   "source": [
    "def calculo_xyz(x,y,z=1.5):\n",
    "    try:\n",
    "        r=z*(x/y)\n",
    "        return r\n",
    "    except ZeroDivisionError as ex:\n",
    "        print('Division para Cero')\n",
    "    except TypeError as ex:\n",
    "        print('Datos no Numéricos')     "
   ]
  },
  {
   "cell_type": "code",
   "execution_count": 38,
   "id": "25ca1d0f-53ad-405c-940b-0a8dd19b12ee",
   "metadata": {
    "tags": []
   },
   "outputs": [
    {
     "name": "stdout",
     "output_type": "stream",
     "text": [
      "Division para Cero\n",
      "Datos no Numéricos\n"
     ]
    }
   ],
   "source": [
    "a=calculo_xyz(5,0,1.7)\n",
    "a=calculo_xyz(5,10,'t')"
   ]
  },
  {
   "cell_type": "code",
   "execution_count": null,
   "id": "abd3d71b-f84e-40d2-999d-953940f54302",
   "metadata": {},
   "outputs": [],
   "source": []
  }
 ],
 "metadata": {
  "kernelspec": {
   "display_name": "Python 3 (ipykernel)",
   "language": "python",
   "name": "python3"
  },
  "language_info": {
   "codemirror_mode": {
    "name": "ipython",
    "version": 3
   },
   "file_extension": ".py",
   "mimetype": "text/x-python",
   "name": "python",
   "nbconvert_exporter": "python",
   "pygments_lexer": "ipython3",
   "version": "3.11.3"
  }
 },
 "nbformat": 4,
 "nbformat_minor": 5
}
