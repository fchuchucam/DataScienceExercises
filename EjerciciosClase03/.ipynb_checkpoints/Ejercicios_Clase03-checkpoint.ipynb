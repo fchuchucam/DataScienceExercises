{
 "cells": [
  {
   "cell_type": "code",
   "execution_count": 1,
   "id": "a7578b8b-5bfb-4bea-aec8-9306be719b5a",
   "metadata": {},
   "outputs": [
    {
     "data": {
      "text/plain": [
       "array([[0.9418592 , 7.75652475, 9.46741295, 4.42038841],\n",
       "       [5.88189817, 3.6539648 , 3.11433179, 3.23301437],\n",
       "       [2.83907604, 3.54211119, 4.66556537, 1.5362708 ]])"
      ]
     },
     "execution_count": 1,
     "metadata": {},
     "output_type": "execute_result"
    }
   ],
   "source": [
    "import numpy as np\n",
    "low = 0 #incluye el limite inferior\n",
    "high = 10 # no incluye el límite superior\n",
    "size = (3, 4) # 3 filas y 4 columnas\n",
    "random_generator_seed = np.random.default_rng()\n",
    "two_d_array = random_generator_seed.uniform(low, high, size)\n",
    "two_d_array"
   ]
  },
  {
   "cell_type": "code",
   "execution_count": 2,
   "id": "ff44458c-8156-4525-8c67-17336820c2d1",
   "metadata": {},
   "outputs": [
    {
     "data": {
      "text/plain": [
       "array([[9.46741295, 4.42038841, 7.75652475, 9.46741295, 0.9418592 ],\n",
       "       [3.11433179, 3.23301437, 3.6539648 , 3.11433179, 5.88189817],\n",
       "       [4.66556537, 1.5362708 , 3.54211119, 4.66556537, 2.83907604]])"
      ]
     },
     "execution_count": 2,
     "metadata": {},
     "output_type": "execute_result"
    }
   ],
   "source": [
    "# nos quedamos con todas las filas y las columnas 3, 4, 2, y reptimos la 3 (índices 2,3,1,2)\n",
    "lista_indices_columnas = [2, 3, 1, 2, 0]\n",
    "two_d_array[:, lista_indices_columnas]"
   ]
  },
  {
   "cell_type": "code",
   "execution_count": 3,
   "id": "39d0301d-80dc-4735-b85a-85648b1969e1",
   "metadata": {},
   "outputs": [
    {
     "data": {
      "text/plain": [
       "array([5, 6, 7])"
      ]
     },
     "execution_count": 3,
     "metadata": {},
     "output_type": "execute_result"
    }
   ],
   "source": [
    "a = np.array([0, 1, 2])\n",
    "b = 5\n",
    "a + b"
   ]
  },
  {
   "cell_type": "code",
   "execution_count": 4,
   "id": "5291b3a4-e6a3-462a-aea7-379f9588e3f2",
   "metadata": {},
   "outputs": [
    {
     "data": {
      "text/plain": [
       "array([[1., 2., 3.],\n",
       "       [1., 2., 3.],\n",
       "       [1., 2., 3.]])"
      ]
     },
     "execution_count": 4,
     "metadata": {},
     "output_type": "execute_result"
    }
   ],
   "source": [
    "# linea 2 de la imagen:\n",
    "a = np.ones((3, 3))\n",
    "b = np.array([0, 1, 2])\n",
    "a + b"
   ]
  },
  {
   "cell_type": "code",
   "execution_count": 5,
   "id": "4ca74f35-8701-4e8c-873a-fc11514e694e",
   "metadata": {},
   "outputs": [
    {
     "data": {
      "text/plain": [
       "array([[1., 1., 1.],\n",
       "       [1., 1., 1.],\n",
       "       [1., 1., 1.]])"
      ]
     },
     "execution_count": 5,
     "metadata": {},
     "output_type": "execute_result"
    }
   ],
   "source": [
    "a"
   ]
  },
  {
   "cell_type": "code",
   "execution_count": 6,
   "id": "909cc37a-506c-4d45-9008-5afe836fe63f",
   "metadata": {},
   "outputs": [
    {
     "data": {
      "text/plain": [
       "array([0, 1, 2])"
      ]
     },
     "execution_count": 6,
     "metadata": {},
     "output_type": "execute_result"
    }
   ],
   "source": [
    "b"
   ]
  },
  {
   "cell_type": "code",
   "execution_count": 7,
   "id": "056a1cf7-3778-4641-a5e2-2c18a4ed4dda",
   "metadata": {},
   "outputs": [
    {
     "name": "stdout",
     "output_type": "stream",
     "text": [
      "\n",
      "a.shape: (3, 1)\n",
      "a:\n",
      "[[0]\n",
      " [1]\n",
      " [2]]\n"
     ]
    }
   ],
   "source": [
    "a = np.array([[0], [1], [2]])\n",
    "print('\\na.shape:', a.shape)\n",
    "print('a:')\n",
    "print(a)"
   ]
  },
  {
   "cell_type": "code",
   "execution_count": 8,
   "id": "8739547f-3524-418a-b0a0-0a0491050697",
   "metadata": {},
   "outputs": [
    {
     "name": "stdout",
     "output_type": "stream",
     "text": [
      "\n",
      "b.shape: (3,)\n",
      "b:\n",
      "[0 1 2]\n",
      "\n",
      "a+b:\n"
     ]
    },
    {
     "data": {
      "text/plain": [
       "array([[0, 1, 2],\n",
       "       [1, 2, 3],\n",
       "       [2, 3, 4]])"
      ]
     },
     "execution_count": 8,
     "metadata": {},
     "output_type": "execute_result"
    }
   ],
   "source": [
    "b = np.array([0, 1, 2])\n",
    "print('\\nb.shape:', b.shape)\n",
    "print('b:')\n",
    "print(b)\n",
    "\n",
    "print('\\na+b:')\n",
    "a+b"
   ]
  },
  {
   "cell_type": "markdown",
   "id": "1f592ccd-3e0b-4584-821b-c6099c18e8a0",
   "metadata": {},
   "source": [
    "# Hands On"
   ]
  },
  {
   "cell_type": "markdown",
   "id": "4e81e9cb-a4c0-436f-abe2-9bae062a70ec",
   "metadata": {},
   "source": [
    "# Ejercicio 1"
   ]
  },
  {
   "cell_type": "markdown",
   "id": "43c4b3a0-6371-42cb-a8d1-c25c69a5c41c",
   "metadata": {},
   "source": [
    " Dada la instancia de NumPy array\n",
    "\n",
    "data = np.array([[0, 1, 2, 3, 4], \n",
    "              [2, 3, 5, 6, 7], \n",
    "              [5, 6, 7, 8, 9], \n",
    "              [10, 11, 12, 13, 14], \n",
    "              [15, 16, 17, 18, 19], \n",
    "              [1, 2, 3, 4, 5]\n",
    "             ])\n",
    "\n",
    "Obtener un array que tenga sólo las filas impares de 'data' usando:\n",
    "\n",
    "Slicing:\n",
    "\n",
    "Fancy indexing\n",
    "\n",
    "El resultado debe ser\n",
    "\n",
    "np.array([[0, 1, 2, 3, 4], \n",
    "    [5, 6, 7, 8, 9], \n",
    "    [15, 16, 17, 18, 19]])"
   ]
  },
  {
   "cell_type": "code",
   "execution_count": 9,
   "id": "d5e3abd4-7327-422f-ab92-0bcce5e7c7f4",
   "metadata": {},
   "outputs": [],
   "source": [
    "data = np.array([[0, 1, 2, 3, 4], \n",
    "              [2, 3, 5, 6, 7], \n",
    "              [5, 6, 7, 8, 9], \n",
    "              [10, 11, 12, 13, 14], \n",
    "              [15, 16, 17, 18, 19], \n",
    "              [1, 2, 3, 4, 5]\n",
    "             ])"
   ]
  },
  {
   "cell_type": "code",
   "execution_count": 10,
   "id": "c3add396-2fa4-42ea-bb9e-496a37c5a257",
   "metadata": {},
   "outputs": [
    {
     "data": {
      "text/plain": [
       "array([[ 0,  1,  2,  3,  4],\n",
       "       [ 2,  3,  5,  6,  7],\n",
       "       [ 5,  6,  7,  8,  9],\n",
       "       [10, 11, 12, 13, 14],\n",
       "       [15, 16, 17, 18, 19],\n",
       "       [ 1,  2,  3,  4,  5]])"
      ]
     },
     "execution_count": 10,
     "metadata": {},
     "output_type": "execute_result"
    }
   ],
   "source": [
    "data"
   ]
  },
  {
   "cell_type": "code",
   "execution_count": 11,
   "id": "beb71b85-745e-4d8d-aebd-1c24a81a5d04",
   "metadata": {},
   "outputs": [
    {
     "data": {
      "text/plain": [
       "array([[ 0,  1,  2,  3,  4],\n",
       "       [ 5,  6,  7,  8,  9],\n",
       "       [15, 16, 17, 18, 19]])"
      ]
     },
     "execution_count": 11,
     "metadata": {},
     "output_type": "execute_result"
    }
   ],
   "source": [
    "#Slicing: cuando accedemos a los elementos con los parámetros start,stop,step: my_array[0:5:-1]\n",
    "data[0:6:2]"
   ]
  },
  {
   "cell_type": "code",
   "execution_count": 12,
   "id": "9768f7fa-c90f-46b6-b719-89bd3cfd24fb",
   "metadata": {},
   "outputs": [
    {
     "data": {
      "text/plain": [
       "array([[ 0,  1,  2,  3,  4],\n",
       "       [ 5,  6,  7,  8,  9],\n",
       "       [15, 16, 17, 18, 19]])"
      ]
     },
     "execution_count": 12,
     "metadata": {},
     "output_type": "execute_result"
    }
   ],
   "source": [
    "#Fancy Indexing: Cuando creamos una lista de índices y la usamos para acceder a ciertos elementos del array: my_array[[3,5,7,8]]\n",
    "# nos quedamos con todas las columnas y las filas 1, 3, 5  (índices 0,2,4)\n",
    "lista_indices_filas = [0, 2, 4]\n",
    "data[lista_indices_filas]"
   ]
  },
  {
   "cell_type": "code",
   "execution_count": 13,
   "id": "0ad81ae5-d5a6-4afe-9adb-61e006b54a9a",
   "metadata": {},
   "outputs": [
    {
     "data": {
      "text/plain": [
       "array([[False, False, False, False, False],\n",
       "       [False, False, False, False, False],\n",
       "       [False, False, False, False, False],\n",
       "       [False, False, False, False, False],\n",
       "       [False,  True,  True,  True,  True],\n",
       "       [False, False, False, False, False]])"
      ]
     },
     "execution_count": 13,
     "metadata": {},
     "output_type": "execute_result"
    }
   ],
   "source": [
    "#Boolean Indexing: Cuando creamos una “máscara booleana” (un array o lista de True y False) para acceder a ciertos elementos: \n",
    "#my_array[my_array > 4]\n",
    "mask_great_15 = data > 15\n",
    "mask_great_15"
   ]
  },
  {
   "cell_type": "code",
   "execution_count": 14,
   "id": "ee36b821-0fe7-4fae-a508-1778e4dbbc88",
   "metadata": {},
   "outputs": [
    {
     "data": {
      "text/plain": [
       "array([16, 17, 18, 19])"
      ]
     },
     "execution_count": 14,
     "metadata": {},
     "output_type": "execute_result"
    }
   ],
   "source": [
    "data[mask_great_15]"
   ]
  },
  {
   "cell_type": "markdown",
   "id": "bd9e9663-43cd-418f-9be4-cf6ab639fa7e",
   "metadata": {},
   "source": [
    "# Ejercicio 2"
   ]
  },
  {
   "cell_type": "code",
   "execution_count": 15,
   "id": "66f5dd26-fee6-4ed6-b33f-815f9483b508",
   "metadata": {},
   "outputs": [],
   "source": [
    "#Seleccionar los elementos de valor par de 'data' usando boolean indexing\n",
    "#Boolean Indexing: Cuando creamos una “máscara booleana” (un array o lista de True y False) para acceder a ciertos elementos: \n",
    "#Realizamos con modulo 2"
   ]
  },
  {
   "cell_type": "code",
   "execution_count": 16,
   "id": "d87e9a28-ddbf-41e2-8c56-ce3edd0c2c87",
   "metadata": {},
   "outputs": [
    {
     "data": {
      "text/plain": [
       "array([[ True, False,  True, False,  True],\n",
       "       [ True, False, False,  True, False],\n",
       "       [False,  True, False,  True, False],\n",
       "       [ True, False,  True, False,  True],\n",
       "       [False,  True, False,  True, False],\n",
       "       [False,  True, False,  True, False]])"
      ]
     },
     "execution_count": 16,
     "metadata": {},
     "output_type": "execute_result"
    }
   ],
   "source": [
    "mask_pares=data%2==0\n",
    "mask_pares"
   ]
  },
  {
   "cell_type": "code",
   "execution_count": 17,
   "id": "b81b86d9-9df0-4250-ae74-f9c67994ac9e",
   "metadata": {},
   "outputs": [
    {
     "data": {
      "text/plain": [
       "array([ 0,  2,  4,  2,  6,  6,  8, 10, 12, 14, 16, 18,  2,  4])"
      ]
     },
     "execution_count": 17,
     "metadata": {},
     "output_type": "execute_result"
    }
   ],
   "source": [
    "data[mask_pares]"
   ]
  },
  {
   "cell_type": "code",
   "execution_count": 18,
   "id": "029acc31-9054-4bdb-97df-91be3eb996ea",
   "metadata": {
    "tags": []
   },
   "outputs": [
    {
     "data": {
      "text/plain": [
       "[<matplotlib.lines.Line2D at 0x937b4f0>]"
      ]
     },
     "execution_count": 18,
     "metadata": {},
     "output_type": "execute_result"
    },
    {
     "data": {
      "image/png": "[encoded data removed]",
      "text/plain": [
       "<Figure size 432x288 with 1 Axes>"
      ]
     },
     "metadata": {
      "needs_background": "light"
     },
     "output_type": "display_data"
    }
   ],
   "source": [
    "import matplotlib.pyplot as plt\n",
    "import numpy as np\n",
    "\n",
    "from scipy.stats import binom\n",
    "n, p, size = 100, 0.4, 10000\n",
    "rng = np.random.default_rng()\n",
    "sample = rng.binomial(n, p, size=size)\n",
    "count, bins, _ = plt.hist(sample, 30, density=True)\n",
    "x = np.arange(n)\n",
    "y = binom.pmf(x, n, p)\n",
    "plt.plot(x, y, linewidth=2, color='r')"
   ]
  },
  {
   "cell_type": "markdown",
   "id": "881b2b06-42db-418b-82c7-6e8b878897ac",
   "metadata": {
    "tags": []
   },
   "source": [
    "<div id=\"caja5\" style=\"float:left;width: 100%;\">\n",
    "  <div style=\"float:left;width: 15%;\"><img src=\"../../../common/icons/ponete_a_prueba.png\" style=\"align:left\"/> </div>\n",
    "  <div style=\"float:left;width: 85%;\"><label>\n",
    "      <b>Ejercicio 1</b>\n",
    "    \n",
    "Usando como semilla el numero 2843, construyan un objeto array de Numpy con 500 números aleatorios de distribución binomial con n = 100 y p = 0.7\n",
    "    \n",
    "Ayuda: https://docs.scipy.org/doc/numpy/reference/random/generated/numpy.random.Generator.binomial.html#numpy.random.Generator.binomial\n",
    "      \n",
    "Completen el código de la función random_binomial():</label></div>\n",
    "</div>"
   ]
  },
  {
   "cell_type": "code",
   "execution_count": 19,
   "id": "5337f96a-d917-4644-a259-3b3862784115",
   "metadata": {
    "tags": []
   },
   "outputs": [
    {
     "data": {
      "image/png": "[encoded data removed]",
      "text/plain": [
       "<Figure size 432x288 with 1 Axes>"
      ]
     },
     "metadata": {
      "needs_background": "light"
     },
     "output_type": "display_data"
    }
   ],
   "source": [
    "import numpy as np\n",
    "\n",
    "def random_binomial():\n",
    "    # cambiar aquí:\n",
    "    #result = np.array([1,2,3])\n",
    "    #result = [1, 2, 3]\n",
    "    seed = 2843\n",
    "    rng_seed = np.random.default_rng(seed)\n",
    "    n, p, size = 100, 0.7, 500\n",
    "    result = rng_seed.binomial(n, p, size)\n",
    "    count, bins, _ = plt.hist(result, 30, density=True)\n",
    "    x = np.arange(n)\n",
    "    y = binom.pmf(x, n, p)\n",
    "    plt.plot(x, y, linewidth=2, color='r')\n",
    "    \n",
    "    return(result)\n",
    "\n",
    "resultado = random_binomial()"
   ]
  },
  {
   "cell_type": "markdown",
   "id": "41a794c5-10ea-45d6-b7aa-8c30ed37e59b",
   "metadata": {},
   "source": [
    "<div id=\"caja10\" style=\"float:left;width: 100%;\">\n",
    "  <div style=\"float:left;width: 15%;\"><img src=\"../../../common/icons/ponete_a_prueba.png\" style=\"align:left\"/> </div>\n",
    "  <div style=\"float:left;width: 85%;\"><label>\n",
    "\n",
    "\n",
    "\n",
    "\n",
    "\n",
    "<b>Ejercicio 2</b>\n",
    "\n",
    "Tenemos un dataset que representa la cantidad de precipitaciones del 2014 en la ciudad de Seattle\n",
    "\n",
    "La cantidad de precipitaciones está en la **cuarta** columna, completa el código de una función que reciba el dataset y devuelva estos valores.\n",
    "    \n",
    "Queremos saber la cantidad de días:\n",
    "* sin lluvia: valor de precipitaciones es 0\n",
    "* con lluvia: valor de precipitaciones es distinto de 0\n",
    "* con más de 100 de lluvia: valor de precipitaciones es mayor a 100\n",
    "* con lluvia, pero no mayor a 100: valor de precipitaciones es distinto de 0 y menor o igual a 100 \n",
    "   \n",
    "</label></div>    \n",
    "</div>"
   ]
  },
  {
   "cell_type": "code",
   "execution_count": 20,
   "id": "46e5ff55-3ff4-44d5-a942-aa265acd7a9d",
   "metadata": {
    "tags": []
   },
   "outputs": [],
   "source": [
    "def precipitaciones(data):\n",
    "    # modificar aquí\n",
    "    result = data[:,3]\n",
    "    return result\n",
    "\n",
    "def cant_dias_sin_lluvia(precip):\n",
    "    # cambiar aquí:\n",
    "    sin_lluvia_mask=precip==0\n",
    "    sin_lluvia = precip[sin_lluvia_mask]\n",
    "    result=len(sin_lluvia)\n",
    "    return result\n",
    "\n",
    "def cant_dias_con_lluvia(precip):\n",
    "    # cambiar aquí:\n",
    "    con_lluvia_mask=precip!=0\n",
    "    con_lluvia=precip[con_lluvia_mask]\n",
    "    result = len(con_lluvia)\n",
    "    return result\n",
    "\n",
    "def cant_dias_con_lluvia_mayor_100(precip):\n",
    "    # cambiar aquí:\n",
    "    con_lluvia_mayor_100_mask=precip>100\n",
    "    con_lluvia_mayor_100=precip[con_lluvia_mayor_100_mask]\n",
    "    result = len(con_lluvia_mayor_100)\n",
    "    return result\n",
    "\n",
    "def cant_dias_con_lluvia_menorigual_100(precip):\n",
    "    # cambiar aquí:\n",
    "    con_lluvia_mayor_menos_100_mask=(precip>0 )& (precip<100)\n",
    "    con_lluvia_mayor_menos_100=precip[con_lluvia_mayor_menos_100_mask]\n",
    "    result = len(con_lluvia_mayor_menos_100)\n",
    "    return result\n"
   ]
  },
  {
   "cell_type": "code",
   "execution_count": 21,
   "id": "256fc7a5-6edc-47fc-892c-51e293893c00",
   "metadata": {
    "tags": []
   },
   "outputs": [
    {
     "name": "stdout",
     "output_type": "stream",
     "text": [
      "sin lluvia 215\n",
      "con lluvia 150\n",
      "cantidad dìas con lluvia mayor a 100: 47\n",
      "cantidad dìas con lluvia mayor a 0 y menor a 100: 103\n"
     ]
    }
   ],
   "source": [
    "### import numpy as np\n",
    "import os.path\n",
    "\n",
    "data_location = os.path.abspath('Data/Seattle2014.csv')\n",
    "data = np.genfromtxt(data_location, skip_header=1, delimiter=',')\n",
    "data\n",
    "\n",
    "valores_precipitaciones = precipitaciones(data)\n",
    "\n",
    "#* sin lluvia: valor de precipitaciones es 0\n",
    "sin_lluvia_p=cant_dias_sin_lluvia(valores_precipitaciones)\n",
    "print('sin lluvia', sin_lluvia_p)\n",
    "\n",
    "#* con lluvia: valor de precipitaciones es distinto de 0\n",
    "con_lluvia_p=cant_dias_con_lluvia(valores_precipitaciones)\n",
    "print('con lluvia',con_lluvia_p)\n",
    "\n",
    "#* con más de 100 de lluvia: valor de precipitaciones es mayor a 100\n",
    "con_mas_100_lluvia_p=cant_dias_con_lluvia_mayor_100(valores_precipitaciones)\n",
    "print('cantidad dìas con lluvia mayor a 100:',con_mas_100_lluvia_p)\n",
    "\n",
    "#* con lluvia, pero no mayor a 100: valor de precipitaciones es distinto de 0 y menor o igual a 100 \n",
    "cant_dias_con_lluvia_menorigual_100_p=cant_dias_con_lluvia_menorigual_100(valores_precipitaciones)\n",
    "print('cantidad dìas con lluvia mayor a 0 y menor a 100:',cant_dias_con_lluvia_menorigual_100_p)\n"
   ]
  },
  {
   "cell_type": "code",
   "execution_count": null,
   "id": "a55579f2-8b51-49be-a5c6-495fc56abfaa",
   "metadata": {},
   "outputs": [],
   "source": []
  },
  {
   "cell_type": "markdown",
   "id": "925a05c1-da93-4174-8e39-b864a4cec12e",
   "metadata": {},
   "source": [
    "La idea de esta práctica es ejercitar los puntos que vamos a necesitar para resolver el desafío.\n",
    "\n",
    "Usaremos un resumen del dataset de Kaggle que tiene datos de ventas:\n",
    "\n",
    "https://www.kaggle.com/kyanyoga/sample-sales-data"
   ]
  },
  {
   "cell_type": "markdown",
   "id": "bb1db4d5-6a82-4e29-bb0b-c89b6f3f97bc",
   "metadata": {},
   "source": [
    "### CHECKPOINT"
   ]
  },
  {
   "cell_type": "markdown",
   "id": "f580bca5-d5fa-4ed1-8775-aabc99aa5db0",
   "metadata": {},
   "source": [
    "## Ejercicio 1\n",
    "Leer los datos del archivo /M1/CLASE_03_Numpy/Data/sales_data_sample_excercise.csv\n",
    "\n",
    "Este archivo tiene algunos datos numéricos y otros de tipo cadena de caracteres. \n",
    "\n",
    "Las columnas son:\n",
    "\n",
    "* ORDERNUMBER: int, id de la orden\n",
    "\n",
    "* SALES: float, monto abonado\n",
    "\n",
    "* MONTH_ID: int, mes\n",
    "\n",
    "* YEAR_ID: int, año\n",
    "\n",
    "* PRODUCTLINE: str, producto\n",
    "\n",
    "* COUNTRY: str, país de venta\n",
    "\n",
    "¿Recuerdan que todos los elementos de una instancia de ndarray deben ser del mismo tipo? Entonces vamos a leer el archivo y crear una instancia de ndarray de tipo cadena de caracteres.\n",
    "\n",
    "¿Qué pasaría si intentáramos crear una instancia de tipo int? ¿Y de tipo float?"
   ]
  },
  {
   "cell_type": "code",
   "execution_count": 22,
   "id": "8b4d75db-4f5a-4f49-9424-f00d528735ac",
   "metadata": {},
   "outputs": [
    {
     "data": {
      "text/plain": [
       "array([[1.01070e+04, 2.87100e+03, 2.00000e+00, 2.00300e+03,         nan,\n",
       "                nan],\n",
       "       [1.01210e+04, 2.76590e+03, 5.00000e+00, 2.00300e+03,         nan,\n",
       "                nan],\n",
       "       [1.01340e+04, 3.88434e+03, 7.00000e+00, 2.00300e+03,         nan,\n",
       "                nan],\n",
       "       ...,\n",
       "       [1.03860e+04, 5.41757e+03, 3.00000e+00, 2.00500e+03,         nan,\n",
       "                nan],\n",
       "       [1.03970e+04, 2.11616e+03, 3.00000e+00, 2.00500e+03,         nan,\n",
       "                nan],\n",
       "       [1.04140e+04, 3.07944e+03, 5.00000e+00, 2.00500e+03,         nan,\n",
       "                nan]])"
      ]
     },
     "execution_count": 22,
     "metadata": {},
     "output_type": "execute_result"
    }
   ],
   "source": [
    "import numpy as np\n",
    "#import de módulos necesarios a utilizar\n",
    "import pandas as pd\n",
    "import re\n",
    "import random\n",
    "import numpy as np\n",
    "import matplotlib.pyplot as plt\n",
    "import seaborn as sns\n",
    "\n",
    "data_location = \"Data/sales_data_sample_excercise.csv\"\n",
    "data_default = np.genfromtxt(data_location, skip_header=1, delimiter='\\t')\n",
    "data_default"
   ]
  },
  {
   "cell_type": "code",
   "execution_count": 23,
   "id": "9e87576b-433c-4084-9bd2-d183ad2897af",
   "metadata": {},
   "outputs": [
    {
     "data": {
      "text/plain": [
       "array([['10107', '2871', '2', '2003', 'Motorcycles', 'USA'],\n",
       "       ['10121', '2765.9', '5', '2003', 'Motorcycles', 'France'],\n",
       "       ['10134', '3884.34', '7', '2003', 'Motorcycles', 'France'],\n",
       "       ...,\n",
       "       ['10386', '5417.57', '3', '2005', 'Ships', 'Spain'],\n",
       "       ['10397', '2116.16', '3', '2005', 'Ships', 'France'],\n",
       "       ['10414', '3079.44', '5', '2005', 'Ships', 'USA']], dtype='<U16')"
      ]
     },
     "execution_count": 23,
     "metadata": {},
     "output_type": "execute_result"
    }
   ],
   "source": [
    "data_type_str= np.genfromtxt(data_location,skip_header=1,delimiter='\\t',dtype=str)\n",
    "data_type_str"
   ]
  },
  {
   "cell_type": "code",
   "execution_count": 24,
   "id": "eaf0846c-cc8a-4a32-abc8-d6eb4e0d807b",
   "metadata": {},
   "outputs": [
    {
     "data": {
      "text/plain": [
       "array([[10107,  2871,     2,  2003,    -1,    -1],\n",
       "       [10121,  2765,     5,  2003,    -1,    -1],\n",
       "       [10134,  3884,     7,  2003,    -1,    -1],\n",
       "       ...,\n",
       "       [10386,  5417,     3,  2005,    -1,    -1],\n",
       "       [10397,  2116,     3,  2005,    -1,    -1],\n",
       "       [10414,  3079,     5,  2005,    -1,    -1]])"
      ]
     },
     "execution_count": 24,
     "metadata": {},
     "output_type": "execute_result"
    }
   ],
   "source": [
    "data_type_int=np.genfromtxt(data_location,skip_header=1,delimiter='\\t',dtype=int)\n",
    "data_type_int"
   ]
  },
  {
   "cell_type": "code",
   "execution_count": 25,
   "id": "537fb0d1-241c-49d9-b277-06d8795faaa7",
   "metadata": {},
   "outputs": [
    {
     "data": {
      "text/plain": [
       "array([[1.01070e+04, 2.87100e+03, 2.00000e+00, 2.00300e+03,         nan,\n",
       "                nan],\n",
       "       [1.01210e+04, 2.76590e+03, 5.00000e+00, 2.00300e+03,         nan,\n",
       "                nan],\n",
       "       [1.01340e+04, 3.88434e+03, 7.00000e+00, 2.00300e+03,         nan,\n",
       "                nan],\n",
       "       ...,\n",
       "       [1.03860e+04, 5.41757e+03, 3.00000e+00, 2.00500e+03,         nan,\n",
       "                nan],\n",
       "       [1.03970e+04, 2.11616e+03, 3.00000e+00, 2.00500e+03,         nan,\n",
       "                nan],\n",
       "       [1.04140e+04, 3.07944e+03, 5.00000e+00, 2.00500e+03,         nan,\n",
       "                nan]])"
      ]
     },
     "execution_count": 25,
     "metadata": {},
     "output_type": "execute_result"
    }
   ],
   "source": [
    "data_type_float=np.genfromtxt(data_location,skip_header=1,delimiter='\\t',dtype=float)\n",
    "data_type_float"
   ]
  },
  {
   "cell_type": "markdown",
   "id": "4f6244a1-a3c6-4b09-9afd-10ff732478d4",
   "metadata": {},
   "source": [
    "# Ejercicio 2 - Tipos\n",
    "\n",
    "Crear un array numérico que tenga como valores las columna SALES y otro array de str que tenga como valores la columna COUNTRY\n",
    "\n",
    "Ayuda: https://docs.scipy.org/doc/numpy/reference/generated/numpy.ndarray.astype.html"
   ]
  },
  {
   "cell_type": "code",
   "execution_count": 26,
   "id": "ae360d8a-2205-474d-8e32-5d3a4b51ef51",
   "metadata": {},
   "outputs": [
    {
     "name": "stdout",
     "output_type": "stream",
     "text": [
      "[2871.   2765.9  3884.34 ... 5417.57 2116.16 3079.44]\n"
     ]
    }
   ],
   "source": [
    "array_sales_str=data_type_str[:,1]\n",
    "array_sales=array_sales_str.astype(np.float64)\n",
    "print(array_sales)"
   ]
  },
  {
   "cell_type": "code",
   "execution_count": 27,
   "id": "79d16c30-d4d3-4cce-99bd-67b93f0c752e",
   "metadata": {},
   "outputs": [
    {
     "data": {
      "text/plain": [
       "array(['USA', 'France', 'France', ..., 'Spain', 'France', 'USA'],\n",
       "      dtype='<U16')"
      ]
     },
     "execution_count": 27,
     "metadata": {},
     "output_type": "execute_result"
    }
   ],
   "source": [
    "array_countries=data_type_str[:,5]\n",
    "array_countries"
   ]
  },
  {
   "cell_type": "markdown",
   "id": "252025e6-1317-4ca6-8cc8-08dfae919bee",
   "metadata": {},
   "source": [
    "## Ejercicio 3 - Funciones de agregación\n",
    "\n",
    "Sobre los datos de precios de ventas (columna SALES) calcular:\n",
    "\n",
    "* mínimo\n",
    "\n",
    "* máximo\n",
    "\n",
    "* promedio\n",
    "\n",
    "* cantidad\n",
    "\n",
    "* suma\n",
    "\n",
    "Ayuda: https://docs.scipy.org/doc/numpy-1.17.0/reference/routines.statistics.html"
   ]
  },
  {
   "cell_type": "code",
   "execution_count": 28,
   "id": "db02af74-4803-4c1a-891e-97006293e49d",
   "metadata": {},
   "outputs": [
    {
     "data": {
      "text/plain": [
       "482.13"
      ]
     },
     "execution_count": 28,
     "metadata": {},
     "output_type": "execute_result"
    }
   ],
   "source": [
    "np.min(array_sales)"
   ]
  },
  {
   "cell_type": "code",
   "execution_count": 29,
   "id": "956ae335-0cef-421a-a12e-0eb11bfda67e",
   "metadata": {},
   "outputs": [
    {
     "data": {
      "text/plain": [
       "14082.8"
      ]
     },
     "execution_count": 29,
     "metadata": {},
     "output_type": "execute_result"
    }
   ],
   "source": [
    "np.max(array_sales)"
   ]
  },
  {
   "cell_type": "code",
   "execution_count": 30,
   "id": "3b4f3f83-352f-4a20-b7d1-29918343a582",
   "metadata": {},
   "outputs": [
    {
     "data": {
      "text/plain": [
       "3553.889071909316"
      ]
     },
     "execution_count": 30,
     "metadata": {},
     "output_type": "execute_result"
    }
   ],
   "source": [
    "np.average(array_sales)"
   ]
  },
  {
   "cell_type": "code",
   "execution_count": 31,
   "id": "810ac4a8-7831-4c8c-9610-9c4dde8a9087",
   "metadata": {},
   "outputs": [
    {
     "data": {
      "text/plain": [
       "2823"
      ]
     },
     "execution_count": 31,
     "metadata": {},
     "output_type": "execute_result"
    }
   ],
   "source": [
    "array_sales.size"
   ]
  },
  {
   "cell_type": "code",
   "execution_count": 32,
   "id": "7271c697-cdd9-46d0-92fe-f7a747aa1484",
   "metadata": {},
   "outputs": [
    {
     "data": {
      "text/plain": [
       "10032628.85"
      ]
     },
     "execution_count": 32,
     "metadata": {},
     "output_type": "execute_result"
    }
   ],
   "source": [
    "np.sum(array_sales)"
   ]
  },
  {
   "cell_type": "markdown",
   "id": "d7fcb227-e74c-4ced-bc84-48826762e6e9",
   "metadata": {},
   "source": [
    "## Ejercicio 4 - Indexing\n",
    "\n",
    "a) ¿Cuántas ventas se hicieron en USA?\n",
    "\n",
    "Ayuda: boolean indexing\n",
    "\n",
    "b) ¿Cuáles son los precios de las 5 ventas que están en las filas 6 a 10 del dataset?\n",
    "\n",
    "Resolvamos usando array slicing y fancy indexing\n",
    "\n",
    "Ayuda: recuerden `range` https://docs.python.org/3/library/functions.html#func-range"
   ]
  },
  {
   "cell_type": "code",
   "execution_count": 33,
   "id": "ee826c86-d40a-4315-b9f8-9f160ab02846",
   "metadata": {},
   "outputs": [
    {
     "data": {
      "text/plain": [
       "1004"
      ]
     },
     "execution_count": 33,
     "metadata": {},
     "output_type": "execute_result"
    }
   ],
   "source": [
    "#a) ¿Cuántas ventas se hicieron en USA?\n",
    "usa_sales_mask=array_countries=='USA'\n",
    "usa_sales=array_countries[usa_sales_mask]\n",
    "usa_sales.size"
   ]
  },
  {
   "cell_type": "code",
   "execution_count": 34,
   "id": "b4becb75-8ee3-46e6-895c-00b4ca4fe81b",
   "metadata": {},
   "outputs": [
    {
     "data": {
      "text/plain": [
       "array([2497.77, 5512.32, 2168.54, 4708.44, 3965.66])"
      ]
     },
     "execution_count": 34,
     "metadata": {},
     "output_type": "execute_result"
    }
   ],
   "source": [
    "#b) ¿Cuáles son los precios de las 5 ventas que están en las filas 6 a 10 del dataset?\n",
    "#Slicing: cuando accedemos a los elementos con los parámetros start,stop,step: my_array[0:5:-1]\n",
    "sales_array_slicing=array_sales[6:11]\n",
    "sales_array_slicing"
   ]
  },
  {
   "cell_type": "code",
   "execution_count": 35,
   "id": "b2f95461-3795-4fcd-95a1-044095789657",
   "metadata": {},
   "outputs": [
    {
     "data": {
      "text/plain": [
       "array([2497.77, 5512.32, 2168.54, 4708.44, 3965.66])"
      ]
     },
     "execution_count": 35,
     "metadata": {},
     "output_type": "execute_result"
    }
   ],
   "source": [
    "#Fancy Indexing: Cuando creamos una lista de índices y la usamos para acceder a ciertos elementos del array: my_array[[3,5,7,8]]\n",
    "\n",
    "lista_indices_filas = [6,7,8,9,10]\n",
    "array_sales[lista_indices_filas]"
   ]
  },
  {
   "cell_type": "markdown",
   "id": "173bd72a-6b68-44aa-996d-86b180817350",
   "metadata": {},
   "source": [
    "### DESAFIO"
   ]
  },
  {
   "cell_type": "markdown",
   "id": "2d52486d-3a57-4f12-b426-c5646a4d7b3f",
   "metadata": {},
   "source": [
    "## Ejercicio 1\n",
    "\n",
    "Leer los datos del archivo /M1/CLASE_03_Numpy/Data/sales_data_sample_excercise.csv\n",
    "\n",
    "Este archivo tiene algunos datos numéricos y otros de tipo cadena de caracteres. \n",
    "\n",
    "Las columnas son:\n",
    "\n",
    "* ORDERNUMBER: int, id de la orden\n",
    "\n",
    "* SALES: float, monto abonado\n",
    "\n",
    "* MONTH_ID: int, mes\n",
    "\n",
    "* YEAR_ID: int, año\n",
    "\n",
    "* PRODUCTLINE: str, producto\n",
    "\n",
    "* COUNTRY: str, país de venta\n",
    "\n",
    "¿Recuerdan que todos los elementos de una instancia de ndarray deben ser del mismo tipo? Entonces vamos a leer el archivo y crear una instancia de ndarray de tipo cadena de caracteres.\n",
    "\n",
    "¿Qué pasaría si intentáramos crear una instancia de tipo int? ¿Y de tipo float?"
   ]
  },
  {
   "cell_type": "code",
   "execution_count": 36,
   "id": "8977c551-32e0-4048-b56f-14d839544c66",
   "metadata": {},
   "outputs": [
    {
     "data": {
      "text/plain": [
       "array([['10107', '2871', '2', '2003', 'Motorcycles', 'USA'],\n",
       "       ['10121', '2765.9', '5', '2003', 'Motorcycles', 'France'],\n",
       "       ['10134', '3884.34', '7', '2003', 'Motorcycles', 'France'],\n",
       "       ...,\n",
       "       ['10386', '5417.57', '3', '2005', 'Ships', 'Spain'],\n",
       "       ['10397', '2116.16', '3', '2005', 'Ships', 'France'],\n",
       "       ['10414', '3079.44', '5', '2005', 'Ships', 'USA']], dtype='<U16')"
      ]
     },
     "execution_count": 36,
     "metadata": {},
     "output_type": "execute_result"
    }
   ],
   "source": [
    "data_type_str= np.genfromtxt(data_location,skip_header=1,delimiter='\\t',dtype=str)\n",
    "data_type_str"
   ]
  },
  {
   "cell_type": "markdown",
   "id": "1832ecc7-abd7-4624-848c-247a42277184",
   "metadata": {},
   "source": [
    "## Ejercicio 2\n",
    "\n",
    "Crear un array numérico que tenga como valores las columna SALES y otro array de str que tenga como valores la columna COUNTRY\n",
    "\n",
    "Ayuda: https://docs.scipy.org/doc/numpy/reference/generated/numpy.ndarray.astype.html"
   ]
  },
  {
   "cell_type": "code",
   "execution_count": 37,
   "id": "bebcc672-3a8c-4dc3-8038-d14efaa0180b",
   "metadata": {},
   "outputs": [
    {
     "name": "stdout",
     "output_type": "stream",
     "text": [
      "[2871.   2765.9  3884.34 ... 5417.57 2116.16 3079.44]\n"
     ]
    }
   ],
   "source": [
    "sales_vector=data_type_str[:,1]\n",
    "sales_vector\n",
    "\n",
    "array_sales=array_sales_str.astype(np.float64)\n",
    "print(array_sales)"
   ]
  },
  {
   "cell_type": "code",
   "execution_count": 38,
   "id": "93d9b185-982f-45c6-a8ee-d3bf98ef56c1",
   "metadata": {},
   "outputs": [
    {
     "data": {
      "text/plain": [
       "array(['USA', 'France', 'France', ..., 'Spain', 'France', 'USA'],\n",
       "      dtype='<U16')"
      ]
     },
     "execution_count": 38,
     "metadata": {},
     "output_type": "execute_result"
    }
   ],
   "source": [
    "countries_array=data_type_str[:,5]\n",
    "countries_array"
   ]
  },
  {
   "cell_type": "markdown",
   "id": "3a0fe769-9e00-4281-8227-823577bc9d22",
   "metadata": {},
   "source": [
    "## Ejercicio 3\n",
    "\n",
    "¿Cuál fue el monto mínimo de una venta? ¿Cuál fue el monto máximo?"
   ]
  },
  {
   "cell_type": "code",
   "execution_count": 39,
   "id": "4cc9fd11-afd3-496e-8125-9d438845482d",
   "metadata": {},
   "outputs": [
    {
     "data": {
      "text/plain": [
       "482.13"
      ]
     },
     "execution_count": 39,
     "metadata": {},
     "output_type": "execute_result"
    }
   ],
   "source": [
    "np.min(array_sales)"
   ]
  },
  {
   "cell_type": "code",
   "execution_count": 40,
   "id": "7a96e9e7-f05f-4263-855c-7b3bb8c93aaa",
   "metadata": {},
   "outputs": [
    {
     "data": {
      "text/plain": [
       "14082.8"
      ]
     },
     "execution_count": 40,
     "metadata": {},
     "output_type": "execute_result"
    }
   ],
   "source": [
    "np.max(array_sales)"
   ]
  },
  {
   "cell_type": "markdown",
   "id": "01fb649c-eff9-4075-9741-1e9aa4d2f152",
   "metadata": {},
   "source": [
    "## Ejercicio 4\n",
    "\n",
    "¿Cuántas ventas se hicieron en Spain?\n",
    "\n",
    "Ayuda: boolean indexing"
   ]
  },
  {
   "cell_type": "code",
   "execution_count": 43,
   "id": "3aa1463b-0e28-48fa-b018-a312f91f43c7",
   "metadata": {},
   "outputs": [],
   "source": [
    "spain_sales_mask=countries_array=='Spain'\n",
    "spain_sales=array_countries[spain_sales_mask]\n",
    "cant_spain_sales=spain_sales.size"
   ]
  },
  {
   "cell_type": "markdown",
   "id": "33227eaa-c454-4b00-a5c4-b91ff3355685",
   "metadata": {},
   "source": [
    "## Ejercicio 5\n",
    "\n",
    "¿Qué porcentaje de las ventas se hicieron en Spain?"
   ]
  },
  {
   "cell_type": "code",
   "execution_count": 44,
   "id": "a1699883-1336-4168-a0a5-c1da80f6dce5",
   "metadata": {},
   "outputs": [
    {
     "data": {
      "text/plain": [
       "12.114771519659936"
      ]
     },
     "execution_count": 44,
     "metadata": {},
     "output_type": "execute_result"
    }
   ],
   "source": [
    "cant_total_sales=countries_array.size\n",
    "porc_spain=cant_spain_sales*100/cant_total_sales\n",
    "porc_spain"
   ]
  },
  {
   "cell_type": "markdown",
   "id": "d0b671c5-d10b-4171-a047-2340080cdbeb",
   "metadata": {},
   "source": [
    "## Ejercicio 6\n",
    "\n",
    "¿Cuál es el país de la venta de precio máximo? ¿Cuál es el id de esa venta?\n",
    "\n",
    "Ayuda: boolean indexing"
   ]
  },
  {
   "cell_type": "code",
   "execution_count": 45,
   "id": "48abc7a9-d52c-48ef-b713-2505129f6ff1",
   "metadata": {},
   "outputs": [
    {
     "data": {
      "text/plain": [
       "'USA'"
      ]
     },
     "execution_count": 45,
     "metadata": {},
     "output_type": "execute_result"
    }
   ],
   "source": [
    "max_price=array_sales.max()\n",
    "max_price_mask=array_sales==max_price\n",
    "country_max_price=countries_array[max_price_mask][0]\n",
    "country_max_price"
   ]
  },
  {
   "cell_type": "code",
   "execution_count": 46,
   "id": "3ca03008-4058-4ae2-b6ae-0c768d2f00bb",
   "metadata": {},
   "outputs": [
    {
     "data": {
      "text/plain": [
       "10407"
      ]
     },
     "execution_count": 46,
     "metadata": {},
     "output_type": "execute_result"
    }
   ],
   "source": [
    "ids_array_str=data_type_str[:,0]\n",
    "ids_array=ids_array_str.astype(np.int64)\n",
    "id_max_price=ids_array[max_price_mask][0]\n",
    "id_max_price\n"
   ]
  },
  {
   "cell_type": "markdown",
   "id": "815b4164-d82e-4688-bd9d-398e360dd99c",
   "metadata": {},
   "source": [
    "## Ejercicio 7\n",
    "\n",
    "¿Cuál es el precio promedio de ventas en France? ¿Cuál es el desvío?"
   ]
  },
  {
   "cell_type": "code",
   "execution_count": 47,
   "id": "6bce3aa2-1c66-4614-91ca-91ab6981c3f8",
   "metadata": {},
   "outputs": [
    {
     "name": "stdout",
     "output_type": "stream",
     "text": [
      "3537.9507006369427\n",
      "1939.214360481481\n"
     ]
    }
   ],
   "source": [
    "france_sales_mask=countries_array=='France'\n",
    "france_sales=array_sales[france_sales_mask]\n",
    "\n",
    "promedio_france=france_sales.mean()\n",
    "print(promedio_france)\n",
    "desvio_france=france_sales.std()\n",
    "print(desvio_france)"
   ]
  },
  {
   "cell_type": "markdown",
   "id": "1f835bd0-e4d7-4af0-88e1-99140e8e1185",
   "metadata": {},
   "source": [
    "## Ejercicio 8\n",
    "\n",
    "¿Cuál fue el año con máximo desvío en las ventas en France?\n",
    "\n",
    "Ayuda: https://docs.scipy.org/doc/numpy/reference/generated/numpy.unique.html"
   ]
  },
  {
   "cell_type": "code",
   "execution_count": 79,
   "id": "67bf9dff-4bec-4d79-bcef-ab6fe5018d76",
   "metadata": {},
   "outputs": [
    {
     "name": "stdout",
     "output_type": "stream",
     "text": [
      "['2003' '2004' '2005']\n",
      "[1860.7718844747073, 1837.8438485766644, 2241.7723043613423]\n",
      "2241.7723043613423\n",
      "[False False  True]\n",
      "['2005']\n"
     ]
    }
   ],
   "source": [
    "sales_france_mask=countries_array=='France'\n",
    "data_france_sales=data_type_str[sales_france_mask,1]\n",
    "data_france_years=data_type_str[sales_france_mask,3]\n",
    "\n",
    "data_france_years_num=data_france_years.astype(np.int64)\n",
    "years_unique=np.unique(data_france_years)\n",
    "print(years_unique)\n",
    "\n",
    "desvios=[]\n",
    "for year in years_unique:\n",
    "    year_array_mask = data_france_years==year\n",
    "    sales_per_year_array=data_france_sales[year_array_mask].astype(np.float64)\n",
    "    desvios_year=sales_per_year_array.std()\n",
    "    desvios.append(desvios_year)\n",
    "\n",
    "print(desvios)\n",
    "desvio_max=np.array(desvios).max()\n",
    "print(desvio_max)\n",
    "desvio_max_mask=desvios==desvio_max\n",
    "print(desvio_max_mask)\n",
    "max_years_std=years_unique[desvio_max_mask]\n",
    "print(max_years_std)"
   ]
  },
  {
   "cell_type": "code",
   "execution_count": null,
   "id": "3099d251-7c55-4ff2-b3c4-7c61617acc72",
   "metadata": {},
   "outputs": [],
   "source": []
  },
  {
   "cell_type": "code",
   "execution_count": null,
   "id": "3a6bee92-dd59-4b6f-b8da-b89e78b755c5",
   "metadata": {},
   "outputs": [],
   "source": []
  },
  {
   "cell_type": "code",
   "execution_count": null,
   "id": "bb408e92-57e7-4f88-9c68-d4e73c2955e5",
   "metadata": {},
   "outputs": [],
   "source": []
  }
 ],
 "metadata": {
  "kernelspec": {
   "display_name": "Python 3",
   "language": "python",
   "name": "python3"
  },
  "language_info": {
   "codemirror_mode": {
    "name": "ipython",
    "version": 3
   },
   "file_extension": ".py",
   "mimetype": "text/x-python",
   "name": "python",
   "nbconvert_exporter": "python",
   "pygments_lexer": "ipython3",
   "version": "3.8.8"
  }
 },
 "nbformat": 4,
 "nbformat_minor": 5
}
